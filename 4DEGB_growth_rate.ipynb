{
 "cells": [
  {
   "cell_type": "code",
   "execution_count": 1,
   "id": "b6ed48c7-e5f6-4dce-955b-092d1d55b591",
   "metadata": {},
   "outputs": [],
   "source": [
    "import scipy as sc\n",
    "from scipy.integrate import odeint\n",
    "import numpy as np\n",
    "import matplotlib.pyplot as plt\n",
    "import pyccl as ccl"
   ]
  },
  {
   "cell_type": "code",
   "execution_count": 2,
   "id": "b93b6ec6-baa0-482a-920e-372ca35f3364",
   "metadata": {},
   "outputs": [],
   "source": [
    "# BACKGROUND - define useful functions\n",
    "\n",
    "# gives X(z) as defined in (8) Wang and Mota (note - k vanishes when calculating X)\n",
    "\n",
    "def X(z, cosmo):\n",
    "    \n",
    "    Omega_c , Omega_b , Omega_k , Omega_r , alpha_tilde = cosmo\n",
    "    Omega_m = Omega_c + Omega_b\n",
    "    Omega_lambda = 1 - Omega_m - Omega_r - Omega_k + alpha_tilde\n",
    "    \n",
    "    if alpha_tilde == 0:\n",
    "        return 1\n",
    "    else:\n",
    "        return 1 + 4 * alpha_tilde * (Omega_m * (1 + z) ** 3 + Omega_r * (1 + z)** 4 + Omega_k * (1 + z) ** 2 + Omega_lambda)\n",
    "\n",
    "# gives E(z) = H(z) / H0\n",
    "\n",
    "def E(z , cosmo):\n",
    "    \n",
    "    Omega_c , Omega_b , Omega_k , Omega_r , alpha_tilde = cosmo\n",
    "    Omega_m = Omega_c + Omega_b\n",
    "    Omega_lambda = 1 - Omega_m - Omega_r - Omega_k + alpha_tilde\n",
    "    \n",
    "\n",
    "    if alpha_tilde == 0.0:\n",
    "        ans = np.sqrt(Omega_m * (1 + z) ** 3 + Omega_r * (1 + z) ** 4 + Omega_k * (1 + z) ** 2 + Omega_lambda)\n",
    "    else:\n",
    "        \n",
    "        ans = np.sqrt((np.sqrt(X(z , cosmo)) - 1)/(2 * alpha_tilde))\n",
    "    \n",
    "    return ans\n",
    "\n",
    "# gives dE/dz\n",
    "\n",
    "def dEdz(z , cosmo):\n",
    "    \n",
    "    Omega_c , Omega_b , Omega_k , Omega_r , alpha_tilde = cosmo\n",
    "    Omega_m = Omega_c + Omega_b\n",
    "    \n",
    "    # Wang and Mota\n",
    "    dEdz = ((3 * Omega_m * (1 + z) ** 2) + (4 * Omega_r * (1 + z) ** 3) + (2 * Omega_k * (1 + z)))/(2 * E(z , cosmo) * np.sqrt(X(z , cosmo)))\n",
    "    \n",
    "    return dEdz\n",
    "\n",
    "# gives dE/dx, x = lna\n",
    "\n",
    "def dEdx(z , cosmo):\n",
    "    \n",
    "    dEdx = -dEdz(z , cosmo) * (1 + z)\n",
    "    \n",
    "    return dEdx"
   ]
  },
  {
   "cell_type": "code",
   "execution_count": 3,
   "id": "4de38e54-d3af-4079-86df-898838700bab",
   "metadata": {},
   "outputs": [],
   "source": [
    "# PERTURBATIONS - define useful functions\n",
    "\n",
    "# ---- finding D ------\n",
    "\n",
    "def coupled_D_eqn(y , a , cosmo):\n",
    "    Omega_c , Omega_b , Omega_k , Omega_r , alpha_tilde = cosmo\n",
    "    Omega_m = Omega_c + Omega_b\n",
    "    \n",
    "    D , acubedEdDda = y\n",
    "    z = 1/a - 1\n",
    "    ydot = [ acubedEdDda/(a*a*a*E(z,cosmo)), 1.5*Omega_m*D/(E(z, cosmo)*a*E(z, cosmo)*a)]\n",
    "    return ydot"
   ]
  },
  {
   "cell_type": "code",
   "execution_count": 4,
   "id": "c4efeb56-ce24-47cb-87e1-ec5f468003ff",
   "metadata": {},
   "outputs": [],
   "source": [
    "# Define constants\n",
    "\n",
    "cosmo = [0.4, 0.045 , 0 , 9.2e-5 , 0]                      #  Omega_c , Omega_b , Omega_k , Omega_r , alpha_tilde \n",
    "cosmoLCDM = ccl.core.Cosmology(Omega_c=cosmo[0],\n",
    "                               Omega_b=cosmo[1], \n",
    "                               sigma8=0.81,\n",
    "                               h = 0.67,\n",
    "                               n_s=0.96,\n",
    "                               Omega_k=cosmo[2], \n",
    "                               Omega_g=cosmo[3])\n",
    "                   \n",
    "# create coord times\n",
    "p = 3\n",
    "x = np.linspace(-5, 0, int(10**p))\n",
    "a = np.exp(x)\n",
    "z = 1/a - 1\n"
   ]
  },
  {
   "cell_type": "code",
   "execution_count": 5,
   "id": "26598d09-952c-47cb-83b4-7a113e38f83a",
   "metadata": {},
   "outputs": [],
   "source": [
    "# create boundary condition for D. Specs give, for g(a) = D/a, g(a) = 1 and g'(a) = 0 for sufficienly large redshift.\n",
    "BCs = [a[0],1]\n",
    "\n",
    "\n",
    "#find solution\n",
    "soln = odeint(coupled_D_eqn, BCs, a, args=(cosmo,), mxstep=int(1e4))"
   ]
  },
  {
   "cell_type": "code",
   "execution_count": 6,
   "id": "eb48d52c-8d58-433f-9135-c2cdd7f24410",
   "metadata": {},
   "outputs": [
    {
     "data": {
      "image/png": "[encoded data removed]",
      "text/plain": [
       "<Figure size 432x288 with 1 Axes>"
      ]
     },
     "metadata": {
      "needs_background": "light"
     },
     "output_type": "display_data"
    }
   ],
   "source": [
    "D = soln.T[0]\n",
    "dDdx = soln.T[1]/(a*a*E(z,cosmo))\n",
    "\n",
    "f = dDdx/D\n",
    "plt.plot(a,f, color = \"b\")\n",
    "plt.plot(a, ccl.growth_rate(cosmoLCDM,a), color = \"r\")\n",
    "\n",
    "plt.show()"
   ]
  },
  {
   "cell_type": "code",
   "execution_count": null,
   "id": "8705fded-8c32-4ffc-9bbe-026aa4d2680c",
   "metadata": {},
   "outputs": [],
   "source": []
  },
  {
   "cell_type": "code",
   "execution_count": null,
   "id": "d7658e44-8371-4a25-a41d-e557cd620008",
   "metadata": {},
   "outputs": [],
   "source": []
  }
 ],
 "metadata": {
  "kernelspec": {
   "display_name": "Python 3",
   "language": "python",
   "name": "python3"
  },
  "language_info": {
   "codemirror_mode": {
    "name": "ipython",
    "version": 3
   },
   "file_extension": ".py",
   "mimetype": "text/x-python",
   "name": "python",
   "nbconvert_exporter": "python",
   "pygments_lexer": "ipython3",
   "version": "3.9.12"
  }
 },
 "nbformat": 4,
 "nbformat_minor": 5
}
