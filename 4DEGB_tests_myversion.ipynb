{
 "cells": [
  {
   "cell_type": "code",
   "execution_count": 1,
   "id": "c21bc0da-0d3e-459c-bd85-b24fcb5813f1",
   "metadata": {},
   "outputs": [],
   "source": [
    "\"\"\" import useful functions \"\"\"\n",
    "\n",
    "import matplotlib.pyplot as plt \n",
    "import pyccl as ccl\n",
    "import numpy as np\n",
    "import scipy\n",
    "%matplotlib inline"
   ]
  },
  {
   "cell_type": "code",
   "execution_count": 2,
   "id": "7e5d7f85-66f3-47e7-b0a3-484e4bd9c723",
   "metadata": {},
   "outputs": [],
   "source": [
    "\"\"\" define functions \"\"\"\n",
    "\n",
    "# gives X(z) as defined in (8) Wang and Mota (note - k vanishes when calculating X)\n",
    "\n",
    "def X(z, cosmo, alpha_tilde):\n",
    "    \n",
    "    H0 , Omega_c , Omega_b , Omega_k , Omega_r = cosmo\n",
    "    Omega_m = Omega_c + Omega_b\n",
    "    Omega_lambda = 1 - Omega_m - Omega_r - Omega_k - alpha_tilde\n",
    "    \n",
    "    return 1 + 4 * alpha_tilde * (Omega_m * (1 + z) ** 3 + Omega_r * (1 + z)** 4 + Omega_lambda)\n",
    "\n",
    "# gives E(z) = H(z) / H0\n",
    "\n",
    "def E(z , cosmo , alpha_tilde):\n",
    "    \n",
    "    H0 , Omega_c , Omega_b , Omega_k , Omega_r = cosmo\n",
    "    Omega_m = Omega_c + Omega_b\n",
    "    Omega_lambda = 1 - Omega_m - Omega_r - Omega_k - alpha_tilde\n",
    "\n",
    "    if alpha_tilde == 0:\n",
    "        ans = np.sqrt(Omega_m * (1 + z) ** 3 + Omega_r * (1 + z) ** 4 + Omega_k * (1 + z) ** 2 + Omega_lambda)\n",
    "    else:\n",
    "        # my calculations\n",
    "        ans = np.sqrt(((2 * alpha_tilde * Omega_k * (1 + z) ** 2) - 1 + np.sqrt(X(z , cosmo , alpha_tilde))) / (2 * alpha_tilde))\n",
    "        \n",
    "    return ans\n",
    "    \n",
    "# gives dH/dz  -- Set to WandM\n",
    "\n",
    "def dHdz(z , cosmo , alpha_tilde):\n",
    "    \n",
    "    H0 , Omega_c , Omega_b , Omega_k , Omega_r = cosmo\n",
    "    Omega_m = Omega_c + Omega_b\n",
    "    \n",
    "    # my calculations\n",
    "    dHdz = H0 * ((2 * Omega_k * (1 + z)) + ((3 * Omega_m * (1 + z) ** 2 + 4 * Omega_r * (1 + z) ** 3) \\\n",
    "            / np.sqrt(X(z , cosmo , alpha_tilde)))) / 2*E(z , cosmo , alpha_tilde)\n",
    "    \n",
    "    return dHdz\n",
    "\n",
    "# gives rho_cdm / rho_DE as a function of z   -- Set to WandM\n",
    "\n",
    "def rho_cdm_frac_rho_de(z , cosmo , alpha_tilde):\n",
    "    \n",
    "    H0 , Omega_c , Omega_b , Omega_k , Omega_r = cosmo\n",
    "    Omega_m = Omega_c + Omega_b\n",
    "    alpha = alpha_tilde / H0**2\n",
    "    Omega_lambda = 1 - Omega_m - Omega_r - Omega_k - alpha_tilde\n",
    "    k = - Omega_k * (H0 ** 2)\n",
    "    a = 1 / (1 + z)\n",
    "    \n",
    "    H = H0 * E(z, cosmo, alpha_tilde)\n",
    "    \n",
    "    # my calculation\n",
    "    frac = (3 * (H0 ** 2) * Omega_c * (1 + z) ** 3) / \\\n",
    "    ((3 * (H0 ** 2) * Omega_lambda) - (3 * k / a ** 2) - (3 * alpha * (H ** 2 + k / a ** 2) ** 2))\n",
    "    \n",
    "    return frac\n",
    "\n",
    "# find w = P / pho for dark energy   -- Set to WandM\n",
    "\n",
    "def omega_de(z , cosmo , alpha_tilde):\n",
    "    \n",
    "    H0 , Omega_c , Omega_b , Omega_k , Omega_r = cosmo\n",
    "    Omega_m = Omega_c + Omega_b\n",
    "    alpha = alpha_tilde / (H0**2)\n",
    "    Omega_lambda = 1 - Omega_m - Omega_r - Omega_k - alpha_tilde\n",
    "    k = - Omega_k * (H0 ** 2)\n",
    "    Lambda = Omega_lambda * 3 * H0 ** 2\n",
    "    \n",
    "    a = 1 / (1 + z)\n",
    "    H = H0 * E(z, cosmo, alpha_tilde)\n",
    "    \n",
    "    # my calculations\n",
    "    ans = - 1 + ((4 * alpha * (H ** 2 + k / a ** 2) * ((H * dHdz(z , cosmo , alpha_tilde) * (1 + z)) + k / a ** 2)) \\\n",
    "                / ((3 * alpha * ((H ** 2 + k / a ** 2) ** 2)) + (3 * k / a ** 2) - Lambda))\n",
    "    \n",
    "    \n",
    "    return ans\n",
    "    "
   ]
  },
  {
   "cell_type": "code",
   "execution_count": 3,
   "id": "5ccea458-fed1-4227-9b16-d71dd18c1bcd",
   "metadata": {},
   "outputs": [
    {
     "name": "stdout",
     "output_type": "stream",
     "text": [
      "0.7849079999999999\n"
     ]
    },
    {
     "name": "stderr",
     "output_type": "stream",
     "text": [
      "<ipython-input-2-b0f7d609e083>:25: RuntimeWarning: invalid value encountered in sqrt\n",
      "  ans = np.sqrt(((2 * alpha_tilde * Omega_k * (1 + z) ** 2) - 1 + np.sqrt(X(z , cosmo , alpha_tilde))) / (2 * alpha_tilde))\n",
      "<ipython-input-2-b0f7d609e083>:25: RuntimeWarning: invalid value encountered in sqrt\n",
      "  ans = np.sqrt(((2 * alpha_tilde * Omega_k * (1 + z) ** 2) - 1 + np.sqrt(X(z , cosmo , alpha_tilde))) / (2 * alpha_tilde))\n"
     ]
    },
    {
     "data": {
      "text/plain": [
       "(0.0, 3.0)"
      ]
     },
     "execution_count": 3,
     "metadata": {},
     "output_type": "execute_result"
    },
    {
     "data": {
      "image/png": "[encoded data removed]",
      "text/plain": [
       "<Figure size 432x288 with 1 Axes>"
      ]
     },
     "metadata": {
      "needs_background": "light"
     },
     "output_type": "display_data"
    }
   ],
   "source": [
    "\"\"\" Plot FIG 1 Wang and Mota\"\"\"\n",
    "\n",
    "# gives cosmological parameters except alpha\n",
    "\n",
    "cosmo = [0.6977 , 0.27 , 0.045 , 0 , 9.2e-5]                      #  H0 , Omega_c , Omega_b , Omega_k , Omega_r \n",
    "\n",
    "a = np.linspace( 0.2 , 1 , int(1e2))\n",
    "\n",
    "\n",
    "plt.plot(a, rho_cdm_frac_rho_de((1/a) - 1, cosmo , 0))\n",
    "alpha_tilde = -1e-1\n",
    "print(1 - 0.27 - 0.045 - 9.2e-5 - alpha_tilde)\n",
    "\n",
    "plt.plot(a, rho_cdm_frac_rho_de((1/a) - 1, cosmo , alpha_tilde))\n",
    "alpha_tilde = -1e-2\n",
    "plt.plot(a, rho_cdm_frac_rho_de((1/a) - 1, cosmo , alpha_tilde))\n",
    "\n",
    "plt.xlim(0,1)\n",
    "plt.ylim(0,3)"
   ]
  },
  {
   "cell_type": "code",
   "execution_count": 4,
   "id": "17a6f926-0e64-4e92-b6df-9febc9365781",
   "metadata": {},
   "outputs": [
    {
     "data": {
      "text/plain": [
       "(-2.0, 1.0)"
      ]
     },
     "execution_count": 4,
     "metadata": {},
     "output_type": "execute_result"
    },
    {
     "data": {
      "image/png": "[encoded data removed]",
      "text/plain": [
       "<Figure size 432x288 with 1 Axes>"
      ]
     },
     "metadata": {
      "needs_background": "light"
     },
     "output_type": "display_data"
    }
   ],
   "source": [
    "\"\"\" Plot FIG 2 Wang and Mota\"\"\"\n",
    "\n",
    "z = np.linspace(0 , 4 , int(1e3))\n",
    "\n",
    "alpha_tilde = 1e-3\n",
    "plt.plot(z , omega_de(z , cosmo , alpha_tilde))\n",
    "alpha_tilde = 1e-8\n",
    "plt.plot(z , omega_de(z , cosmo , alpha_tilde))\n",
    "alpha_tilde = 1e-16\n",
    "plt.plot(z , omega_de(z , cosmo , alpha_tilde))\n",
    "\n",
    "plt.plot(z , omega_de(z , cosmo , 0))\n",
    "\n",
    "plt.xlim(0,4)\n",
    "plt.ylim(-2,1)"
   ]
  },
  {
   "cell_type": "code",
   "execution_count": 5,
   "id": "201bf320-c759-4fa7-87c8-32dbbea075c6",
   "metadata": {},
   "outputs": [
    {
     "data": {
      "text/plain": [
       "(-2.0, 1.0)"
      ]
     },
     "execution_count": 5,
     "metadata": {},
     "output_type": "execute_result"
    },
    {
     "data": {
      "image/png": "[encoded data removed]",
      "text/plain": [
       "<Figure size 432x288 with 1 Axes>"
      ]
     },
     "metadata": {
      "needs_background": "light"
     },
     "output_type": "display_data"
    }
   ],
   "source": [
    "\"\"\" Plot FIG 2 Wang and Mota\"\"\"\n",
    "\n",
    "z = np.linspace(0 , 1 , int(1e3))\n",
    "\n",
    "alpha_tilde = -1e-3\n",
    "plt.plot(z , omega_de(z , cosmo , alpha_tilde))\n",
    "alpha_tilde = -1e-5\n",
    "plt.plot(z , omega_de(z , cosmo , alpha_tilde))\n",
    "alpha_tilde = -1e-8\n",
    "plt.plot(z , omega_de(z , cosmo , alpha_tilde))\n",
    "alpha_tilde = -1e-16\n",
    "plt.plot(z , omega_de(z , cosmo , alpha_tilde))\n",
    "\n",
    "plt.plot(z , omega_de(z , cosmo , 0))\n",
    "\n",
    "plt.xlim(0,1)\n",
    "plt.ylim(-2,1)"
   ]
  },
  {
   "cell_type": "code",
   "execution_count": null,
   "id": "e5e956ea-0906-498d-b153-3d8628db8141",
   "metadata": {},
   "outputs": [],
   "source": []
  },
  {
   "cell_type": "code",
   "execution_count": null,
   "id": "4c557352-4aa7-4fcc-8cec-109720005c43",
   "metadata": {},
   "outputs": [],
   "source": []
  },
  {
   "cell_type": "code",
   "execution_count": null,
   "id": "aef263fb-cd81-45ec-8fd2-1e95e64d1534",
   "metadata": {},
   "outputs": [],
   "source": []
  }
 ],
 "metadata": {
  "kernelspec": {
   "display_name": "Python 3",
   "language": "python",
   "name": "python3"
  },
  "language_info": {
   "codemirror_mode": {
    "name": "ipython",
    "version": 3
   },
   "file_extension": ".py",
   "mimetype": "text/x-python",
   "name": "python",
   "nbconvert_exporter": "python",
   "pygments_lexer": "ipython3",
   "version": "3.9.12"
  }
 },
 "nbformat": 4,
 "nbformat_minor": 5
}
