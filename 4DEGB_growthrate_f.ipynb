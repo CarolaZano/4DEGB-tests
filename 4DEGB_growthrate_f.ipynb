{
 "cells": [
  {
   "cell_type": "code",
   "execution_count": 19,
   "id": "c7ee1c36-6b28-48ab-93af-4e8169798a4e",
   "metadata": {},
   "outputs": [],
   "source": [
    "import scipy as sc\n",
    "from scipy.integrate import odeint\n",
    "import numpy as np\n",
    "import matplotlib.pyplot as plt"
   ]
  },
  {
   "cell_type": "code",
   "execution_count": 20,
   "id": "42f725ce-6844-4d94-843f-67ddf13de1f5",
   "metadata": {},
   "outputs": [],
   "source": [
    "# BACKGROUND - define useful functions\n",
    "\n",
    "# gives X(z) as defined in (8) Wang and Mota (note - k vanishes when calculating X)\n",
    "\n",
    "def X(z, cosmo):\n",
    "    \n",
    "    Omega_c , Omega_b , Omega_k , Omega_r , alpha_tilde = cosmo\n",
    "    Omega_m = Omega_c + Omega_b\n",
    "    Omega_lambda = 1 - Omega_m - Omega_r - Omega_k + alpha_tilde\n",
    "    \n",
    "    return 1 + 4 * alpha_tilde * (Omega_m * (1 + z) ** 3 + Omega_r * (1 + z)** 4 + Omega_k * (1 + z) ** 2 + Omega_lambda)\n",
    "\n",
    "# gives E(z) = H(z) / H0\n",
    "\n",
    "def E(z , cosmo):\n",
    "    \n",
    "    Omega_c , Omega_b , Omega_k , Omega_r , alpha_tilde = cosmo\n",
    "    Omega_m = Omega_c + Omega_b\n",
    "    Omega_lambda = 1 - Omega_m - Omega_r - Omega_k + alpha_tilde\n",
    "    \n",
    "\n",
    "    if alpha_tilde == 0:\n",
    "        ans = np.sqrt(Omega_m * (1 + z) ** 3 + Omega_r * (1 + z) ** 4 + Omega_k * (1 + z) ** 2 + Omega_lambda)\n",
    "    else:\n",
    "        \n",
    "        ans = np.sqrt((np.sqrt(X(z , cosmo)) - 1)/(2 * alpha_tilde))\n",
    "    \n",
    "    return ans\n",
    "\n",
    "# gives dE/dz\n",
    "\n",
    "def dEdz(z , cosmo):\n",
    "    \n",
    "    Omega_c , Omega_b , Omega_k , Omega_r , alpha_tilde = cosmo\n",
    "    Omega_m = Omega_c + Omega_b\n",
    "    \n",
    "    # Wang and Mota\n",
    "    dEdz = ((3 * Omega_m * (1 + z) ** 2) + (4 * Omega_r * (1 + z) ** 3) + (2 * Omega_k * (1 + z)))/(2 * E(z , cosmo) * np.sqrt(X(z , cosmo)))\n",
    "    \n",
    "    return dEdz\n",
    "\n",
    "# gives dE/dx, x = lna\n",
    "\n",
    "def dEdx(z , cosmo):\n",
    "    \n",
    "    dEdx = -(1 + z) * dEdz(z , cosmo)\n",
    "    \n",
    "    return dEdx"
   ]
  },
  {
   "cell_type": "code",
   "execution_count": 21,
   "id": "2091a426-1ba5-4b6b-8f2e-be1a28f27654",
   "metadata": {},
   "outputs": [],
   "source": [
    "# PERTURBATIONS - define useful functions\n",
    "\n",
    "# ---- finding f ------\n",
    "#returns derivative of f with respect to x\n",
    "def dfdx(f , x , cosmo):\n",
    "    \n",
    "    Omega_c , Omega_b , Omega_k , Omega_r , alpha_tilde = cosmo\n",
    "    Omega_m = Omega_c + Omega_b\n",
    "    \n",
    "    z = np.exp(-x) - 1\n",
    "    dfdx = -f ** 2 -(2 + dEdx(z , cosmo)/E(z , cosmo)) * f -(3/2) * Omega_m * \\\n",
    "    (1 + 2 * alpha_tilde * E(z , cosmo) * (2*dEdx(z , cosmo) - E(z , cosmo)))/((2 * alpha_tilde * E(z , cosmo) ** 2 + 1)\\\n",
    "                                                                               * E(z , cosmo) ** 2)\n",
    "    \n",
    "    return dfdx\n",
    "\n",
    "# ---- finding sigma8 ------\n",
    "# returns second derivative of sigma8 (equivalent to delta_m up to boundary conditions) with respect to x\n",
    "def ddsigma8ddx (sigma8 , dsigma8dx , x , cosmo):\n",
    "    \n",
    "    Omega_c , Omega_b , Omega_k , Omega_r , alpha_tilde = cosmo\n",
    "    Omega_m = Omega_c + Omega_b\n",
    "    z = np.exp(-x) - 1\n",
    "\n",
    "    Eval = E(z , cosmo)\n",
    "    dEvaldx = dEdx(z , cosmo)\n",
    "    \n",
    "    ddsigma8ddx = -(2 + dEvaldx/Eval)*dsigma8dx - (3/2)*Omega_m*sigma8*(1 + 2 * alpha_tilde * Eval * (2*dEvaldx - Eval))/\\\n",
    "    ((2 * alpha_tilde * Eval ** 2 + 1)* Eval ** 2)\n",
    "    return ddsigma8ddx\n",
    "\n",
    "\n",
    "def coupled_sigma8_dsigma8dx(y , x , cosmo):\n",
    "    sigma8 , dsigma8dx = y\n",
    "    ydot = [dsigma8dx, ddsigma8ddx(sigma8 , dsigma8dx , x , cosmo)]\n",
    "    return ydot"
   ]
  },
  {
   "cell_type": "code",
   "execution_count": 22,
   "id": "a0fee9d7-a3d2-4902-b589-3b468d463b5d",
   "metadata": {},
   "outputs": [],
   "source": [
    "# Define constants\n",
    "\n",
    "cosmo = [0.27 , 0.045 , 0 , 9.2e-5 , 0]                      #  Omega_c , Omega_b , Omega_k , Omega_r , alpha_tilde \n",
    "\n",
    "# create coord times\n",
    "p = 3\n",
    "x = np.linspace( 0, -0.7, int(10**p))\n",
    "\n",
    "# create boundary condition for f: value of f at x = -2\n",
    "BC = (0.27  + 0.045) ** 0.55\n",
    "\n",
    "#find solution\n",
    "f = odeint(dfdx, BC, x, args=(cosmo,), mxstep=int(1e4))\n",
    "f = np.transpose(f)[0]"
   ]
  },
  {
   "cell_type": "code",
   "execution_count": 23,
   "id": "7607fb00-b2ee-4752-b2f5-5da3353a677c",
   "metadata": {},
   "outputs": [
    {
     "data": {
      "text/plain": [
       "[<matplotlib.lines.Line2D at 0x7f05b1b120d0>]"
      ]
     },
     "execution_count": 23,
     "metadata": {},
     "output_type": "execute_result"
    },
    {
     "data": {
      "image/png": "[encoded data removed]",
      "text/plain": [
       "<Figure size 432x288 with 1 Axes>"
      ]
     },
     "metadata": {
      "needs_background": "light"
     },
     "output_type": "display_data"
    }
   ],
   "source": [
    "plt.plot(np.exp(-x) - 1,f)\n"
   ]
  },
  {
   "cell_type": "code",
   "execution_count": 24,
   "id": "218b1445-261a-40dc-b98d-65c46fb94d48",
   "metadata": {
    "tags": []
   },
   "outputs": [],
   "source": [
    "# create boundary condition for sigma8\n",
    "BCs = [0.78,0.78]\n",
    "\n",
    "\n",
    "#find solution\n",
    "soln = odeint(coupled_sigma8_dsigma8dx, BCs, x, args=(cosmo,), mxstep=int(1e4))"
   ]
  },
  {
   "cell_type": "code",
   "execution_count": 25,
   "id": "d79927ec-3b7e-45f4-912b-9478cca5a172",
   "metadata": {},
   "outputs": [
    {
     "data": {
      "text/plain": [
       "[<matplotlib.lines.Line2D at 0x7f05b1aee370>]"
      ]
     },
     "execution_count": 25,
     "metadata": {},
     "output_type": "execute_result"
    },
    {
     "data": {
      "image/png": "[encoded data removed]",
      "text/plain": [
       "<Figure size 432x288 with 1 Axes>"
      ]
     },
     "metadata": {
      "needs_background": "light"
     },
     "output_type": "display_data"
    }
   ],
   "source": [
    "sigma8 = soln[:,0]\n",
    "\n",
    "plt.plot(np.exp(-x) - 1,sigma8*f)\n",
    "\n"
   ]
  },
  {
   "cell_type": "code",
   "execution_count": null,
   "id": "04c475b5-0ca4-4423-af49-e8d49f717d0a",
   "metadata": {},
   "outputs": [],
   "source": []
  },
  {
   "cell_type": "code",
   "execution_count": null,
   "id": "ce19e675-aa11-4a69-991f-4c4798d1f914",
   "metadata": {},
   "outputs": [],
   "source": []
  },
  {
   "cell_type": "code",
   "execution_count": null,
   "id": "1c7b84cd-88d7-4727-9fe7-efa648b54889",
   "metadata": {
    "collapsed": true,
    "jupyter": {
     "outputs_hidden": true,
     "source_hidden": true
    },
    "tags": []
   },
   "outputs": [
    {
     "data": {
      "text/plain": [
       "Text(0, 0.5, 'z')"
      ]
     },
     "execution_count": 134,
     "metadata": {},
     "output_type": "execute_result"
    },
    {
     "data": {
      "image/png": "[encoded data removed]",
      "text/plain": [
       "<Figure size 432x288 with 1 Axes>"
      ]
     },
     "metadata": {
      "needs_background": "light"
     },
     "output_type": "display_data"
    }
   ],
   "source": []
  }
 ],
 "metadata": {
  "kernelspec": {
   "display_name": "Python 3",
   "language": "python",
   "name": "python3"
  },
  "language_info": {
   "codemirror_mode": {
    "name": "ipython",
    "version": 3
   },
   "file_extension": ".py",
   "mimetype": "text/x-python",
   "name": "python",
   "nbconvert_exporter": "python",
   "pygments_lexer": "ipython3",
   "version": "3.9.12"
  }
 },
 "nbformat": 4,
 "nbformat_minor": 5
}
