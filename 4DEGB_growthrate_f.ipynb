{
 "cells": [
  {
   "cell_type": "code",
   "execution_count": 1,
   "id": "c7ee1c36-6b28-48ab-93af-4e8169798a4e",
   "metadata": {},
   "outputs": [],
   "source": [
    "import scipy as sc\n",
    "from scipy.integrate import odeint\n",
    "import numpy as np\n",
    "import matplotlib.pyplot as plt\n",
    "import pyccl as ccl"
   ]
  },
  {
   "cell_type": "code",
   "execution_count": 2,
   "id": "42f725ce-6844-4d94-843f-67ddf13de1f5",
   "metadata": {},
   "outputs": [],
   "source": [
    "# BACKGROUND - define useful functions\n",
    "\n",
    "# gives X(z) as defined in (8) Wang and Mota (note - k vanishes when calculating X)\n",
    "\n",
    "def X(z, cosmo):\n",
    "    \n",
    "    Omega_c , Omega_b , Omega_k , Omega_r , alpha_tilde = cosmo\n",
    "    Omega_m = Omega_c + Omega_b\n",
    "    Omega_lambda = 1 - Omega_m - Omega_r - Omega_k + alpha_tilde\n",
    "    \n",
    "    return 1 + 4 * alpha_tilde * (Omega_m * (1 + z) ** 3 + Omega_r * (1 + z)** 4 + Omega_k * (1 + z) ** 2 + Omega_lambda)\n",
    "\n",
    "# gives E(z) = H(z) / H0\n",
    "\n",
    "def E(z , cosmo):\n",
    "    \n",
    "    Omega_c , Omega_b , Omega_k , Omega_r , alpha_tilde = cosmo\n",
    "    Omega_m = Omega_c + Omega_b\n",
    "    Omega_lambda = 1 - Omega_m - Omega_r - Omega_k + alpha_tilde\n",
    "    \n",
    "\n",
    "    if alpha_tilde == 0:\n",
    "        ans = np.sqrt(Omega_m * (1 + z) ** 3 + Omega_r * (1 + z) ** 4 + Omega_k * (1 + z) ** 2 + Omega_lambda)\n",
    "    else:\n",
    "        \n",
    "        ans = np.sqrt((np.sqrt(X(z , cosmo)) - 1)/(2 * alpha_tilde))\n",
    "    \n",
    "    return ans\n",
    "\n",
    "# gives dE/dz\n",
    "\n",
    "def dEdz(z , cosmo):\n",
    "    \n",
    "    Omega_c , Omega_b , Omega_k , Omega_r , alpha_tilde = cosmo\n",
    "    Omega_m = Omega_c + Omega_b\n",
    "    \n",
    "    # Wang and Mota\n",
    "    dEdz = ((3 * Omega_m * (1 + z) ** 2) + (4 * Omega_r * (1 + z) ** 3) + (2 * Omega_k * (1 + z)))/(2 * E(z , cosmo) * np.sqrt(X(z , cosmo)))\n",
    "    \n",
    "    return dEdz\n",
    "\n",
    "# gives dE/dx, x = lna\n",
    "\n",
    "def dEdx(z , cosmo):\n",
    "    \n",
    "    dEdx = -dEdz(z , cosmo) * (1 + z)\n",
    "    \n",
    "    return dEdx"
   ]
  },
  {
   "cell_type": "code",
   "execution_count": 3,
   "id": "2091a426-1ba5-4b6b-8f2e-be1a28f27654",
   "metadata": {},
   "outputs": [],
   "source": [
    "# PERTURBATIONS - define useful functions\n",
    "\n",
    "# ---- finding f ------\n",
    "#returns derivative of f with respect to x, where x = ln(a)\n",
    "def dfdx(f , x , cosmo):\n",
    "    \n",
    "    Omega_c , Omega_b , Omega_k , Omega_r , alpha_tilde = cosmo\n",
    "    Omega_m = Omega_c + Omega_b\n",
    "    \n",
    "    z = np.exp(-x) - 1\n",
    "    dfdx = -f ** 2 - (2 + dEdx(z , cosmo)/E(z , cosmo)) * f + (3/2) * Omega_m * (1+z)**3 *\\\n",
    "    (1 + 2 * alpha_tilde * E(z , cosmo) * (2*dEdx(z , cosmo) - E(z , cosmo)))/((2 * alpha_tilde * E(z , cosmo) ** 2 + 1)**2\\\n",
    "                                                                               * E(z , cosmo) ** 2)\n",
    "    return dfdx\n",
    "\n",
    "# ---TEST: finding f in lambdaCDM only ----\n",
    "def dfdxLCDM(f , x , cosmo):\n",
    "    \n",
    "    Omega_c , Omega_b , Omega_k , Omega_r , alpha_tilde = cosmo\n",
    "    Omega_m = Omega_c + Omega_b\n",
    "    \n",
    "    z = np.exp(-x) - 1\n",
    "    \n",
    "    dfdx =  -f**2 - (2 + dEdx(z , cosmo)/E(z , cosmo)) * f + 3*Omega_m*(1+z)**3/(2*E(z , cosmo)**2)\n",
    "    \n",
    "    return dfdx\n",
    "\n",
    "# ---- finding sigma8 ------\n",
    "# returns second derivative of sigma8 (equivalent to delta_m up to boundary conditions) with respect to x\n",
    "def ddsigma8ddx (sigma8 , dsigma8dx , x , cosmo):\n",
    "    \n",
    "    Omega_c , Omega_b , Omega_k , Omega_r , alpha_tilde = cosmo\n",
    "    Omega_m = Omega_c + Omega_b\n",
    "    z = np.exp(-x) - 1\n",
    "\n",
    "    Eval = E(z , cosmo)\n",
    "    dEvaldx = dEdx(z , cosmo)\n",
    "    \n",
    "    ddsigma8ddx = -(2 + dEvaldx/Eval)*dsigma8dx + (3/2)*Omega_m*(1+z)**3 *sigma8*(1 + 2 * alpha_tilde * Eval * (2*dEvaldx - Eval))/\\\n",
    "    ((2 * alpha_tilde * Eval ** 2 + 1)**2 * Eval ** 2)\n",
    "    return ddsigma8ddx\n",
    "\n",
    "\n",
    "def coupled_sigma8_dsigma8dx(y , x , cosmo):\n",
    "    sigma8 , dsigma8dx = y\n",
    "    ydot = [dsigma8dx, ddsigma8ddx(sigma8 , dsigma8dx , x , cosmo)]\n",
    "    return ydot"
   ]
  },
  {
   "cell_type": "code",
   "execution_count": 134,
   "id": "a0fee9d7-a3d2-4902-b589-3b468d463b5d",
   "metadata": {},
   "outputs": [
    {
     "name": "stdout",
     "output_type": "stream",
     "text": [
      "-0.00041990808217873266\n"
     ]
    }
   ],
   "source": [
    "# Define constants\n",
    "\n",
    "cosmo = [0.6, 0.045 , 0 , 9.2e-5 , 0]                      #  Omega_c , Omega_b , Omega_k , Omega_r , alpha_tilde \n",
    "cosmoLCDM = ccl.core.Cosmology(Omega_c=cosmo[0],\n",
    "                               Omega_b=cosmo[1], \n",
    "                               sigma8=0.81,\n",
    "                               h = 0.67,\n",
    "                               n_s=0.96,\n",
    "                               Omega_k=cosmo[2], \n",
    "                               Omega_g=cosmo[3])\n",
    "                   \n",
    "# create coord times\n",
    "p = 3\n",
    "x = np.linspace(-3, -5, int(10**p))\n",
    "a = np.exp(x)\n",
    "z = 1/a - 1\n",
    "# create boundary condition for f: value of f at x = -2\n",
    "BC = (cosmo[0]  + cosmo[1]) ** 0.55\n",
    "\n",
    "#find solution\n",
    "f = odeint(dfdxLCDM, BC, x, args=(cosmo,), mxstep=int(1e4))\n",
    "f = np.transpose(f)[0]\n",
    "\n",
    "print(f[0] - ccl.growth_rate(cosmoLCDM,1))"
   ]
  },
  {
   "cell_type": "code",
   "execution_count": 141,
   "id": "c23f515c-063d-479c-8e69-48eb1d61587d",
   "metadata": {},
   "outputs": [
    {
     "data": {
      "text/plain": [
       "[<matplotlib.lines.Line2D at 0x7fb73ec2aa60>]"
      ]
     },
     "execution_count": 141,
     "metadata": {},
     "output_type": "execute_result"
    },
    {
     "data": {
      "image/png": "[encoded data removed]",
      "text/plain": [
       "<Figure size 432x288 with 1 Axes>"
      ]
     },
     "metadata": {
      "needs_background": "light"
     },
     "output_type": "display_data"
    }
   ],
   "source": [
    "plt.plot(z,dEdx(z , cosmo)/(E(z , cosmo)))"
   ]
  },
  {
   "cell_type": "code",
   "execution_count": 118,
   "id": "7607fb00-b2ee-4752-b2f5-5da3353a677c",
   "metadata": {},
   "outputs": [
    {
     "data": {
      "text/plain": [
       "[<matplotlib.lines.Line2D at 0x7fb73f2280a0>]"
      ]
     },
     "execution_count": 118,
     "metadata": {},
     "output_type": "execute_result"
    },
    {
     "data": {
      "image/png": "[encoded data removed]",
      "text/plain": [
       "<Figure size 432x288 with 1 Axes>"
      ]
     },
     "metadata": {
      "needs_background": "light"
     },
     "output_type": "display_data"
    }
   ],
   "source": [
    "plt.plot(z,f, color = \"b\")\n",
    "plt.plot(z, ccl.growth_rate(cosmoLCDM,a), color = \"r\")\n",
    "#plt.plot(np.exp(x),f - ccl.growth_rate(cosmoLCDM,np.exp(x)))"
   ]
  },
  {
   "cell_type": "code",
   "execution_count": 119,
   "id": "b9f475f9-dc7f-4c9b-a249-26e7260cda60",
   "metadata": {},
   "outputs": [
    {
     "data": {
      "text/plain": [
       "[<matplotlib.lines.Line2D at 0x7fb73f206910>]"
      ]
     },
     "execution_count": 119,
     "metadata": {},
     "output_type": "execute_result"
    },
    {
     "data": {
      "image/png": "[encoded data removed]",
      "text/plain": [
       "<Figure size 432x288 with 1 Axes>"
      ]
     },
     "metadata": {
      "needs_background": "light"
     },
     "output_type": "display_data"
    }
   ],
   "source": [
    "plt.plot(x,f, color = \"b\")\n",
    "plt.plot(x, ccl.growth_rate(cosmoLCDM,a), color = \"r\")"
   ]
  },
  {
   "cell_type": "code",
   "execution_count": 66,
   "id": "218b1445-261a-40dc-b98d-65c46fb94d48",
   "metadata": {
    "tags": []
   },
   "outputs": [],
   "source": [
    "# create boundary condition for sigma8\n",
    "BCs = [0.78,0.78]\n",
    "\n",
    "\n",
    "#find solution\n",
    "soln = odeint(coupled_sigma8_dsigma8dx, BCs, x, args=(cosmo,), mxstep=int(1e4))"
   ]
  },
  {
   "cell_type": "code",
   "execution_count": null,
   "id": "d79927ec-3b7e-45f4-912b-9478cca5a172",
   "metadata": {},
   "outputs": [
    {
     "data": {
      "text/plain": [
       "[<matplotlib.lines.Line2D at 0x7fb73ff419d0>]"
      ]
     },
     "execution_count": 74,
     "metadata": {},
     "output_type": "execute_result"
    },
    {
     "data": {
      "image/png": "[encoded data removed]",
      "text/plain": [
       "<Figure size 432x288 with 1 Axes>"
      ]
     },
     "metadata": {
      "needs_background": "light"
     },
     "output_type": "display_data"
    }
   ],
   "source": [
    "sigma8 = soln[:,0]\n",
    "\n",
    "plt.plot(np.exp(-x) - 1,sigma8*f)\n",
    "\n"
   ]
  },
  {
   "cell_type": "code",
   "execution_count": null,
   "id": "04c475b5-0ca4-4423-af49-e8d49f717d0a",
   "metadata": {},
   "outputs": [],
   "source": []
  },
  {
   "cell_type": "code",
   "execution_count": null,
   "id": "ce19e675-aa11-4a69-991f-4c4798d1f914",
   "metadata": {},
   "outputs": [],
   "source": []
  },
  {
   "cell_type": "code",
   "execution_count": null,
   "id": "1c7b84cd-88d7-4727-9fe7-efa648b54889",
   "metadata": {
    "collapsed": true,
    "jupyter": {
     "outputs_hidden": true,
     "source_hidden": true
    },
    "tags": []
   },
   "outputs": [],
   "source": []
  },
  {
   "cell_type": "code",
   "execution_count": null,
   "id": "265e4d91-af2a-4c67-80c4-bd69162aadc4",
   "metadata": {},
   "outputs": [],
   "source": []
  },
  {
   "cell_type": "code",
   "execution_count": null,
   "id": "4036de15-572b-4755-a6e5-2f70dd9d3996",
   "metadata": {},
   "outputs": [],
   "source": []
  },
  {
   "cell_type": "code",
   "execution_count": null,
   "id": "126df8c4-8d15-4885-a6d5-4dd932241787",
   "metadata": {},
   "outputs": [],
   "source": []
  },
  {
   "cell_type": "code",
   "execution_count": null,
   "id": "4c4d3f92-d5b1-4bd8-acbf-6f43629ea4f3",
   "metadata": {},
   "outputs": [],
   "source": []
  },
  {
   "cell_type": "code",
   "execution_count": null,
   "id": "717873c3-dec0-47e3-a284-0121753047d5",
   "metadata": {},
   "outputs": [],
   "source": []
  }
 ],
 "metadata": {
  "kernelspec": {
   "display_name": "Python 3",
   "language": "python",
   "name": "python3"
  },
  "language_info": {
   "codemirror_mode": {
    "name": "ipython",
    "version": 3
   },
   "file_extension": ".py",
   "mimetype": "text/x-python",
   "name": "python",
   "nbconvert_exporter": "python",
   "pygments_lexer": "ipython3",
   "version": "3.9.12"
  }
 },
 "nbformat": 4,
 "nbformat_minor": 5
}
