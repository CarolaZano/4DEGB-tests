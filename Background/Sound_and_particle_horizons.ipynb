{
 "cells": [
  {
   "cell_type": "code",
   "execution_count": 44,
   "id": "52273d00-ba3e-4326-864a-d0fd24ead14a",
   "metadata": {},
   "outputs": [],
   "source": [
    "import numpy as np\n",
    "import emcee\n",
    "import matplotlib.pyplot as plt\n",
    "from scipy.optimize import minimize\n",
    "import scipy\n",
    "import corner\n",
    "from IPython.display import display, Math\n",
    "import pandas as pd"
   ]
  },
  {
   "cell_type": "code",
   "execution_count": 73,
   "id": "80d7cd70-3d71-4747-8547-d781a812d0c4",
   "metadata": {},
   "outputs": [],
   "source": [
    "# define useful functions - for now Omg_k is zero\n",
    "\n",
    "# Equation 2.14\n",
    "def Omega_Lambda(cosmo):\n",
    "    Omega_c , Omega_b , Omega_k , Omega_r, alpha_tilde, C_t = cosmo\n",
    "    Omega_m = Omega_c + Omega_b\n",
    "    \n",
    "    return 1 - Omega_m - Omega_r - Omega_k + alpha_tilde * (1 - C_t**2 + Omega_k**2 - 2*Omega_k)\n",
    "\n",
    "# Equation 2.13\n",
    "def X(z, cosmo):\n",
    "    \n",
    "    Omega_c , Omega_b , Omega_k , Omega_r, alpha_tilde, C_t = cosmo\n",
    "    Omega_m = Omega_c + Omega_b\n",
    "    Omega_lambda = Omega_Lambda(cosmo)\n",
    "    \n",
    "    return 1 + 4 * alpha_tilde * (Omega_m * (1 + z) ** 3 + (Omega_r + alpha_tilde*C_t**2) * (1 + z)** 4 + Omega_lambda)\n",
    "\n",
    "# Equation 2.12\n",
    "def E(z , cosmo):\n",
    "    \n",
    "    Omega_c , Omega_b , Omega_k , Omega_r, alpha_tilde, C_t = cosmo\n",
    "    Omega_m = Omega_c + Omega_b\n",
    "    Omega_lambda = Omega_Lambda(cosmo)\n",
    "    \n",
    "    if alpha_tilde == 0:\n",
    "        ans = np.sqrt(Omega_m * (1 + z) ** 3 + Omega_r * (1 + z) ** 4 + Omega_k * (1 + z) ** 2 + Omega_lambda)\n",
    "    else:\n",
    "        ans = np.sqrt((np.sqrt(X(z , cosmo)) - 1 + (2 * alpha_tilde * Omega_k * (1+z) ** 2))/(2 * alpha_tilde))\n",
    "    \n",
    "    return ans\n",
    "\n",
    "# sound horizon\n",
    "def r_s_fracH0c(z,cosmo, a_min):\n",
    "    Omg_c , Omg_b , Omg_k , Omg_r, alpha_t, C_t = cosmo\n",
    "    Omg_m = Omg_b + Omg_c \n",
    "    \n",
    "    return scipy.integrate.quad(lambda x: 1/((x**2)*E(1/x -1, cosmo)*np.sqrt(3*(1 + R_b(Omg_b*h**2)*x))), a_min, 1/(1+z))[0]\n",
    "\n",
    "# particle horizon\n",
    "def r_hor_fracH0c(z,cosmo, a_min):\n",
    "    Omg_c , Omg_b , Omg_k , Omg_r, alpha_t, C_t = cosmo\n",
    "    Omg_m = Omg_b + Omg_c \n",
    "    \n",
    "    return scipy.integrate.quad(lambda x: 1/((x**2)*E(1/x -1, cosmo)), a_min, 1/(1+z))[0]\n",
    "\n",
    "# Used to find z_CMB\n",
    "def g1(wb):\n",
    "    return (0.0783*wb**(-0.238))/(1 + 39.5*wb**(0.763))\n",
    "\n",
    "# Used to find z_CMB\n",
    "def g2(wb):\n",
    "    return 0.56/(1 + 21.1*wb**(1.81))\n",
    "\n",
    "# redshift at which the BB occurs\n",
    "def z_CMB(Omg_b,Omg_m,h):\n",
    "    wb = Omg_b * h**2\n",
    "    wm = Omg_m * h**2\n",
    "    return 1048*(1+0.00124*wb**(-0.738))*\\\n",
    "           (1 + g1(wb)*wm**g2(wb))\n",
    "\n",
    "# Used to find r_s\n",
    "def R_b(wb):\n",
    "    return 31500*wb*(2.7255/2.7)**(-4)\n",
    "\n",
    "# Shift parameter\n",
    "def R(cosmo,h):\n",
    "    Omg_c , Omg_b , Omg_k , Omg_r, alpha_t, C_t = cosmo\n",
    "    Omg_m = Omg_b + Omg_c \n",
    "    return np.sqrt(Omg_m)*scipy.integrate.quad(lambda x: 1/E(x,cosmo), 0 , z_CMB(Omg_b,Omg_m,h))[0]\n",
    "\n",
    "# Acoustic scale\n",
    "def l_A(cosmo,h):\n",
    "    Omg_c , Omg_b , Omg_k , Omg_r, alpha_t, C_t = cosmo\n",
    "    Omg_m = Omg_b + Omg_c \n",
    "    return np.pi*scipy.integrate.quad(lambda x: 1/E(x,cosmo), 0 , z_CMB(Omg_b,Omg_m,h))[0]/\\\n",
    "           (scipy.integrate.quad(lambda x: 1/((x**2)*E(1/x -1, cosmo)*np.sqrt(3*(1 + R_b(Omg_b*h**2)*x))), 1e-2, 1/(1+z_CMB(Omg_b,Omg_m,h)))[0])\n"
   ]
  },
  {
   "cell_type": "code",
   "execution_count": 126,
   "id": "41c47020-7496-4034-8661-0980ef431e3e",
   "metadata": {},
   "outputs": [
    {
     "name": "stdout",
     "output_type": "stream",
     "text": [
      "0.10196425634988468\n",
      "0.06773225672715623\n"
     ]
    }
   ],
   "source": [
    "# try some values\n",
    "cosmotry = [0.0453,0.027,0,9.227e-5,1e-12,0]\n",
    "cosmotry_LCDM = [0.0453,0.027,0,9.227e-5,0,0]\n",
    "h = 0.67\n",
    "z_CMB_val = z_CMB(cosmotry[1],(cosmotry[0]+cosmotry[1]),h)\n",
    "\n",
    "R_data = 1.74963 #\\pm 5e-3 (assume no cross correlation - false)\n",
    "l_a_data = 301.80845 #\\pm 0.09\n",
    "a_min = 2.5e-9\n",
    "\n",
    "print(r_s_fracH0c(z_CMB_val, cosmotry, a_min))\n",
    "print(np.pi*R_data/(l_a_data*np.sqrt(cosmotry[0]+cosmotry[1])))"
   ]
  },
  {
   "cell_type": "code",
   "execution_count": 83,
   "id": "b0db1965-d02b-44ae-80ba-f50ea522c27c",
   "metadata": {},
   "outputs": [
    {
     "name": "stdout",
     "output_type": "stream",
     "text": [
      "0.08212404448086973\n",
      "1.3676132165631043\n"
     ]
    },
    {
     "name": "stderr",
     "output_type": "stream",
     "text": [
      "/tmp/ipykernel_117312/448373618.py:45: IntegrationWarning: The maximum number of subdivisions (50) has been achieved.\n",
      "  If increasing the limit yields no improvement it is advised to analyze \n",
      "  the integrand in order to determine the difficulties.  If the position of a \n",
      "  local difficulty can be determined (singularity, discontinuity) one will \n",
      "  probably gain from splitting up the interval and calling the integrator \n",
      "  on the subranges.  Perhaps a special-purpose integrator should be used.\n",
      "  return scipy.integrate.quad(lambda x: 1/((x**2)*E(1/x -1, cosmo)), a_min, 1/(1+z))[0]\n"
     ]
    }
   ],
   "source": [
    "print(r_hor_fracH0c(z_CMB_val,cosmotry_LCDM, 0))\n",
    "print(r_hor_fracH0c(z_CMB_val,cosmotry, 1e-28))"
   ]
  },
  {
   "cell_type": "code",
   "execution_count": 110,
   "id": "8391a30b-d34d-4c64-af71-68b26216f1a8",
   "metadata": {},
   "outputs": [],
   "source": [
    "a_LCDM = np.linspace(1e-20,1e-1, int(1e3))\n",
    "a = np.linspace(2e-9,1e-1, int(1e3))\n",
    "\n",
    "r_horizon_LCDM = np.zeros(len(a))\n",
    "r_horizon = np.zeros(len(a))\n",
    "\n",
    "for i in range(len(a)):\n",
    "    r_horizon[i] = r_hor_fracH0c(1/a[i] - 1 , cosmotry, 1e-9)\n",
    "    r_horizon_LCDM[i] = r_hor_fracH0c(1/a_LCDM[i] - 1,cosmotry_LCDM, 0)\n"
   ]
  },
  {
   "cell_type": "code",
   "execution_count": 111,
   "id": "571ad720-8822-4a35-9e68-b938692bfe1c",
   "metadata": {},
   "outputs": [
    {
     "data": {
      "text/plain": [
       "<matplotlib.legend.Legend at 0x7f3e07e6f070>"
      ]
     },
     "execution_count": 111,
     "metadata": {},
     "output_type": "execute_result"
    },
    {
     "data": {
      "image/png": "[encoded data removed]",
      "text/plain": [
       "<Figure size 640x480 with 1 Axes>"
      ]
     },
     "metadata": {},
     "output_type": "display_data"
    }
   ],
   "source": [
    "plt.plot(a_LCDM,r_horizon_LCDM, label = \"LCDM\")\n",
    "plt.plot(a,r_horizon, label = \"4DEGB\")\n",
    "#plt.plot(np.ones(int(1e2)), np.linspace(np.min(r_horizon),np.max(r_horizon), int(1e2)), \"k--\", label = \"today\")\n",
    "\n",
    "plt.xlabel(\"a\")\n",
    "plt.ylabel(\"particle horizon\")\n",
    "plt.legend()"
   ]
  },
  {
   "cell_type": "code",
   "execution_count": null,
   "id": "caff371b-2ce4-4332-8fa2-c87baf81100e",
   "metadata": {},
   "outputs": [],
   "source": []
  }
 ],
 "metadata": {
  "kernelspec": {
   "display_name": "Python 3",
   "language": "python",
   "name": "python3"
  },
  "language_info": {
   "codemirror_mode": {
    "name": "ipython",
    "version": 3
   },
   "file_extension": ".py",
   "mimetype": "text/x-python",
   "name": "python",
   "nbconvert_exporter": "python",
   "pygments_lexer": "ipython3",
   "version": "3.9.12"
  }
 },
 "nbformat": 4,
 "nbformat_minor": 5
}
