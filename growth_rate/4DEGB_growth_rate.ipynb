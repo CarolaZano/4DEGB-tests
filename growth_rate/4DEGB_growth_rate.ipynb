{
 "cells": [
  {
   "cell_type": "code",
   "execution_count": 1,
   "id": "b6ed48c7-e5f6-4dce-955b-092d1d55b591",
   "metadata": {},
   "outputs": [],
   "source": [
    "import scipy as sc\n",
    "from scipy.integrate import odeint\n",
    "import numpy as np\n",
    "import matplotlib.pyplot as plt"
   ]
  },
  {
   "cell_type": "code",
   "execution_count": 2,
   "id": "b93b6ec6-baa0-482a-920e-372ca35f3364",
   "metadata": {},
   "outputs": [],
   "source": [
    "# BACKGROUND - define useful functions\n",
    "\n",
    "# gives X(z) as defined in (8) Wang and Mota (note - k vanishes when calculating X)\n",
    "\n",
    "def X(z, cosmo):\n",
    "    \n",
    "    Omega_c , Omega_b , Omega_k , Omega_r , alpha_tilde = cosmo\n",
    "    Omega_m = Omega_c + Omega_b\n",
    "    Omega_lambda = 1 - Omega_m - Omega_r - Omega_k + \\\n",
    "                   alpha_tilde*(1 - 2*Omega_k + Omega_k**2)\n",
    "    \n",
    "    return 1 + 4 * alpha_tilde * (Omega_m * (1 + z) ** 3 + Omega_r * (1 + z)** 4 + Omega_k * (1 + z) ** 2 + Omega_lambda)\n",
    "\n",
    "# gives E(z) = H(z) / H0\n",
    "\n",
    "def E(z , cosmo):\n",
    "    \n",
    "    Omega_c , Omega_b , Omega_k , Omega_r , alpha_tilde = cosmo\n",
    "    Omega_m = Omega_c + Omega_b\n",
    "    Omega_lambda = 1 - Omega_m - Omega_r - Omega_k + \\\n",
    "                   alpha_tilde*(1 - 2*Omega_k + Omega_k**2)\n",
    "\n",
    "    if alpha_tilde == 0:\n",
    "        ans = np.sqrt(Omega_m * (1 + z) ** 3 + Omega_r * (1 + z) ** 4 + Omega_k * (1 + z) ** 2 + Omega_lambda)\n",
    "    else:\n",
    "        \n",
    "        ans = np.sqrt((np.sqrt(X(z , cosmo)) - 1 + (2*alpha_tilde*Omega_k*(1+z)**2))/(2 * alpha_tilde))\n",
    "    \n",
    "    return ans\n",
    "\n",
    "# gives dE/dz\n",
    "\n",
    "def dEdz(z , cosmo):\n",
    "    \n",
    "    Omega_c , Omega_b , Omega_k , Omega_r , alpha_tilde = cosmo\n",
    "    Omega_m = Omega_c + Omega_b\n",
    "    \n",
    "    # Wang and Mota\n",
    "    dEdz = ((3 * Omega_m * (1 + z) ** 2) + (4 * Omega_r * (1 + z) ** 3) + (2 * Omega_k * (1 + z)))/(2 * E(z , cosmo) * np.sqrt(X(z , cosmo)))\n",
    "    \n",
    "    return dEdz"
   ]
  },
  {
   "cell_type": "code",
   "execution_count": 3,
   "id": "4de38e54-d3af-4079-86df-898838700bab",
   "metadata": {},
   "outputs": [],
   "source": [
    "# PERTURBATIONS - define useful functions\n",
    "\n",
    "# returns second derivative of Delta_m with respect to z given Delta_m\n",
    "def ddDeltaddz (Delta , dDeltadz , z , cosmo):\n",
    "    Omega_c , Omega_b , Omega_k , Omega_r , alpha_tilde = cosmo\n",
    "    Omega_m = Omega_c + Omega_b\n",
    "\n",
    "    Eval = E(z , cosmo)\n",
    "    Edash = dEdz(z , cosmo)\n",
    "    \n",
    "    ddDeltaddz = -1 * ((Edash / Eval - 1 / (1 + z)) * dDeltadz + (3 * Omega_m * (1 + z) * (2 * alpha_tilde * Eval * (2 * (1 + z) * Edash - Eval) - 1)*Delta/ \\\n",
    "    (2 * Eval ** 2 * (2 * alpha_tilde * Eval ** 2 + 1))))\n",
    "    \n",
    "    #ddDeltaddz = -1 * ((Edash / Eval - 1 / (1 + z)) * dDeltadz + (3 * Omega_m * (1 + z) * (2 * alpha_tilde * Eval * (2 * (1 + z) * Edash - Eval) - 1)*Delta/ \\\n",
    "    #(2 * (2 * alpha_tilde * Eval ** 2 + 1)**2)))\n",
    "    return ddDeltaddz\n",
    "\n",
    "\n",
    "def coupled_Delta_dDeltadz(y , z , cosmo):\n",
    "    Delta , dDeltadz = y\n",
    "    ydot = [dDeltadz, ddDeltaddz(Delta , dDeltadz , z , cosmo)]\n",
    "    return ydot"
   ]
  },
  {
   "cell_type": "code",
   "execution_count": 4,
   "id": "c4efeb56-ce24-47cb-87e1-ec5f468003ff",
   "metadata": {},
   "outputs": [],
   "source": [
    "# Define constants\n",
    "\n",
    "cosmo = [0.27 , 0.045 , 0 , 9.2e-5 , 0]                     #  Omega_c , Omega_b , Omega_k , Omega_r , alpha_tilde \n",
    "\n",
    "\n",
    "#create coord times (solve backwards and forwards in time from boundary condition)\n",
    "p = 3\n",
    "z = np.linspace(0, 20000, int(10**p))\n",
    "\n",
    "BCs = [2,1]\n",
    "\n",
    "#find solution\n",
    "Soln = odeint(coupled_Delta_dDeltadz, BCs, z, args=(cosmo,), mxstep=int(1e4))\n",
    "\n",
    "Delta = Soln[:,0]\n",
    "\n",
    "dDeltadz = Soln[:,1]"
   ]
  },
  {
   "cell_type": "code",
   "execution_count": 5,
   "id": "eb48d52c-8d58-433f-9135-c2cdd7f24410",
   "metadata": {},
   "outputs": [
    {
     "data": {
      "image/png": "[encoded data removed]",
      "text/plain": [
       "<Figure size 640x480 with 1 Axes>"
      ]
     },
     "metadata": {},
     "output_type": "display_data"
    }
   ],
   "source": [
    "plt.plot(z, dDeltadz)\n",
    "\n",
    "plt.xlabel(\"z\")\n",
    "plt.ylabel(\"~$f\\sigma_8$\")\n",
    "plt.show()"
   ]
  },
  {
   "cell_type": "code",
   "execution_count": null,
   "id": "8705fded-8c32-4ffc-9bbe-026aa4d2680c",
   "metadata": {},
   "outputs": [],
   "source": []
  },
  {
   "cell_type": "code",
   "execution_count": null,
   "id": "d7658e44-8371-4a25-a41d-e557cd620008",
   "metadata": {},
   "outputs": [],
   "source": []
  }
 ],
 "metadata": {
  "kernelspec": {
   "display_name": "Python 3 (ipykernel)",
   "language": "python",
   "name": "python3"
  },
  "language_info": {
   "codemirror_mode": {
    "name": "ipython",
    "version": 3
   },
   "file_extension": ".py",
   "mimetype": "text/x-python",
   "name": "python",
   "nbconvert_exporter": "python",
   "pygments_lexer": "ipython3",
   "version": "3.11.0"
  }
 },
 "nbformat": 4,
 "nbformat_minor": 5
}
