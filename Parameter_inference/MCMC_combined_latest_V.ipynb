{
 "cells": [
  {
   "cell_type": "markdown",
   "metadata": {
    "tags": []
   },
   "source": [
    "# Import useful functions"
   ]
  },
  {
   "cell_type": "code",
   "execution_count": 3,
   "metadata": {},
   "outputs": [],
   "source": [
    "# TODO: \n",
    "# r_d (sound horizon at the drag epoch) might need to be determined by camb.\n",
    "# for now z_d is a constant - should I calculate it exactly?\n",
    "# Check exactly for z_nucleosynthesis\n",
    "# alpha_t lower limit for now is prior from Clifton review\n",
    "\n",
    "import numpy as np\n",
    "import emcee\n",
    "import matplotlib.pyplot as plt\n",
    "from scipy.optimize import minimize\n",
    "import corner\n",
    "from IPython.display import display, Math\n",
    "import pandas as pd\n",
    "from astropy.table import Table\n",
    "import scipy"
   ]
  },
  {
   "cell_type": "markdown",
   "metadata": {
    "tags": []
   },
   "source": [
    "# Defining equations in our theory"
   ]
  },
  {
   "cell_type": "code",
   "execution_count": 4,
   "metadata": {},
   "outputs": [],
   "source": [
    "#------ BACKGROUND EQUATIONS ------\n",
    "\n",
    "# Equation 2.14\n",
    "def Omega_Lambda(cosmo):\n",
    "    Omega_c , Omega_b , Omega_k , Omega_r, alpha_tilde, C_t = cosmo\n",
    "    Omega_m = Omega_c + Omega_b\n",
    "    \n",
    "    return 1 - Omega_m - Omega_r - Omega_k + alpha_tilde * (1 - C_t**2 + Omega_k**2 - 2*Omega_k)\n",
    "\n",
    "# Equation 2.13\n",
    "def X(z, cosmo):\n",
    "    \n",
    "    Omega_c , Omega_b , Omega_k , Omega_r, alpha_tilde, C_t = cosmo\n",
    "    Omega_m = Omega_c + Omega_b\n",
    "    Omega_lambda = Omega_Lambda(cosmo)\n",
    "    \n",
    "    return 1 + 4 * alpha_tilde * (Omega_m * (1 + z) ** 3 + (Omega_r + alpha_tilde*C_t**2) * (1 + z)** 4 + Omega_lambda)\n",
    "\n",
    "# Equation 2.12\n",
    "def E(z , cosmo):\n",
    "    \n",
    "    Omega_c , Omega_b , Omega_k , Omega_r, alpha_tilde, C_t = cosmo\n",
    "    Omega_m = Omega_c + Omega_b\n",
    "    Omega_lambda = Omega_Lambda(cosmo)\n",
    "    \n",
    "    E_L = Omega_m * (1 + z) ** 3 + (Omega_r + alpha_tilde*C_t**2) * (1 + z) ** 4 + Omega_k * (1 + z) ** 2 + Omega_lambda\n",
    "    \n",
    "    if alpha_tilde == 0:\n",
    "        ans = np.sqrt(E_L + Omega_k * (1 + z) ** 2)\n",
    "    \n",
    "    # small alpha approximation to deal with numerical instabilities\n",
    "    elif alpha_tilde < 1e-10 and E_L < 1e4:\n",
    "        ans = np.sqrt(E_L + Omega_k * (1 + z) ** 2 - alpha_tilde* (E_L**2)/4)\n",
    "    \n",
    "    else:\n",
    "        ans = np.sqrt((np.sqrt(X(z , cosmo)) - 1 + (2 * alpha_tilde * Omega_k * (1+z) ** 2))/(2 * alpha_tilde))\n",
    "    \n",
    "    return ans\n"
   ]
  },
  {
   "cell_type": "code",
   "execution_count": 5,
   "metadata": {},
   "outputs": [],
   "source": [
    "# ------ equations for BAO ------ c = 1\n",
    "\n",
    "# Angular diameter distance\n",
    "def D_M_H0(z,cosmo):\n",
    "    Omega_c , Omega_b , Omega_k , Omega_r , alpha_tilde, C_t = cosmo\n",
    "    Omega_m = Omega_c + Omega_b\n",
    "    Omega_lambda = Omega_Lambda(cosmo)\n",
    "\n",
    "    D = np.zeros(len(z))\n",
    "    for i in range(len(z)):\n",
    "        chi = scipy.integrate.quad(lambda x: 1/E(x,cosmo), 0 , z[i])[0]\n",
    "        if Omega_k > 0:\n",
    "            D[i] = np.sinh(np.sqrt(Omega_k)*chi)/np.sqrt(Omega_k)\n",
    "        elif Omega_k < 0:\n",
    "            D[i] = np.sin(np.sqrt(Omega_k)*chi)/np.sqrt(Omega_k)\n",
    "        else:\n",
    "            D[i] = chi\n",
    "    return D\n",
    "\n",
    "# Hubble distance\n",
    "def D_H_H0(z,cosmo):\n",
    "    D = np.zeros(len(z))\n",
    "    for i in range(len(z)):\n",
    "        D[i] = 1/E(z[i],cosmo)\n",
    "    return D\n",
    "\n",
    "# Spherically-averaged distance (historical BAO distance)\n",
    "def D_V_H0(z,cosmo):\n",
    "    return (z*D_H_H0(z,cosmo)*D_M_H0(z,cosmo)**2)**(1/3)\n",
    "\n",
    "# redshift at drag epoch - for now assume a LCDM constant from Komatzu et al 2009\n",
    "# See https://arxiv.org/pdf/1306.3208.pdf Appendix B to find value exactly at a given parameter (this is quite involved) \n",
    "def z_d():\n",
    "    return 1020.5\n",
    "\n",
    "# Used to find r_s - only works for 0.0025 < wb < 0.25 and 0.025 < wm < 0.64 \n",
    "def R_b(wb):\n",
    "    return 31500*wb*(2.7255/2.7)**(-4)\n",
    "\n",
    "# Note that we assumed sound horizon was zero at the end of nucleosynthesis\n",
    "def r_d_H0(cosmo,h):\n",
    "    Omega_c , Omega_b , Omega_k , Omega_r , alpha_tilde, C_t = cosmo\n",
    "    Omega_m = Omega_c + Omega_b\n",
    "    \n",
    "    return scipy.integrate.quad(lambda x: 1/((x**2)*E(1/x -1, cosmo)*np.sqrt(3*(1 + R_b(Omega_b*h**2)*x))), 2.5e-9, 1/(1+z_d()))[0]"
   ]
  },
  {
   "cell_type": "code",
   "execution_count": 6,
   "metadata": {},
   "outputs": [],
   "source": [
    "# ------ equations for SNe -----\n",
    "\n",
    "# Equations for mu\n",
    "\n",
    "# Luminosity distance\n",
    "def D_L(z,cosmo,H0):\n",
    "    Omega_c , Omega_b , Omega_k , Omega_r , alpha_tilde, C_t = cosmo\n",
    "    Omega_m = Omega_c + Omega_b\n",
    "    Omega_lambda = Omega_Lambda(cosmo)\n",
    "\n",
    "    # note: c in km/s, H in km/s/Mpc and D_A in Mpc\n",
    "    c = 3e5\n",
    "    D = np.zeros(len(z))\n",
    "    for i in range(len(z)):\n",
    "        chi = scipy.integrate.quad(lambda x: 1/E(x,cosmo), 0 , z[i])[0]\n",
    "        if Omega_k > 0:\n",
    "            D[i] = (c*(1+z[i])/H0)*np.sinh(np.sqrt(Omega_k)*chi)/np.sqrt(Omega_k)\n",
    "        elif Omega_k < 0:\n",
    "            D[i] = (c*(1+z[i])/H0)*np.sin(np.sqrt(Omega_k)*chi)/np.sqrt(Omega_k)\n",
    "        else:\n",
    "            D[i] = (c*(1+z[i])/H0)*chi\n",
    "    return D\n",
    "\n",
    "# dl has units of Mpc\n",
    "def mu(dl):\n",
    "    return 5*np.log10(dl/1e-5)"
   ]
  },
  {
   "cell_type": "markdown",
   "metadata": {
    "tags": []
   },
   "source": [
    "# Likelihoods"
   ]
  },
  {
   "cell_type": "code",
   "execution_count": 7,
   "metadata": {},
   "outputs": [],
   "source": [
    "# Log likelihood for SNe data \n",
    "\n",
    "def log_likelihood_SNe(theta, z, y, cov):\n",
    "    Omg_c, Omg_b, h, alpha_t = theta\n",
    "    \n",
    "    Omg_r = (2.47e-5*h**-2)*1.6949484 # last factor due to neutrinos\n",
    "    cosmo = [Omg_c , Omg_b , 0 , Omg_r , alpha_t,0]\n",
    "    if X(4e8 , cosmo) <= 1e-4 or (np.sqrt(X(4e8 , cosmo)) - 1)/(2 * alpha_t) <= 1e-4:\n",
    "        return -np.inf\n",
    "    model = np.array(mu(D_L(z, cosmo, 100*h)))\n",
    "    return -0.5 * np.matmul(np.matmul((y-model),np.linalg.inv(cov)),np.transpose(y-model))"
   ]
  },
  {
   "cell_type": "code",
   "execution_count": 8,
   "metadata": {},
   "outputs": [],
   "source": [
    "# SPECIFIC TO MGS DATA (1)\n",
    "# takes a dataframe with chisquared and D_V/D_{V,fid}*r_{d,fid}/r_d \n",
    "# and returns a likelihood for a given theta\n",
    "\n",
    "def log_likelihood_MGS(theta , df):\n",
    "    z =  [0.15,0.15] # use array just because I've been using arrays in other functions. at the end select [0]\n",
    "    Omg_c, Omg_b, h, alpha_t = theta\n",
    "\n",
    "    Omg_r = (2.47e-5*h**-2)*1.6949484\n",
    "    D_V_fid_MGS = 638.95 # Mpc\n",
    "    r_d_fid_MGS = 148.69 # Mpc\n",
    "    likelihood_tointerpolate = np.array(-df[\"chisquared\"]/2)\n",
    "    D_V_rd_tointerpolate = np.array(df[\"D_V_etc\"])*D_V_fid_MGS/r_d_fid_MGS\n",
    "    D_V_rd_theory = D_V_H0(z,[Omg_c , Omg_b , 0 , Omg_r , alpha_t,0])/r_d_H0([Omg_c , Omg_b , 0 , Omg_r , alpha_t,0],h)\n",
    "    return np.interp(D_V_rd_theory, D_V_rd_tointerpolate, likelihood_tointerpolate)[0]"
   ]
  },
  {
   "cell_type": "code",
   "execution_count": 9,
   "metadata": {},
   "outputs": [],
   "source": [
    "# SPECIFIC TO LRG DATA (2), (3b) and (3c)\n",
    "# takes a dataframe with z, D_M(zeff)/r_d and D_H(zeff)/r_d and a dataframe with covariances\n",
    "# and returns a likelihood for a given theta \n",
    "\n",
    "def log_likelihood_DMDH(theta , df , df_cov): # data = y, DM_or_DH\n",
    "    Omg_c, Omg_b, h, alpha_t = theta\n",
    "\n",
    "    Omg_r = (2.47e-5*h**-2)*1.6949484\n",
    "    \n",
    "    z = np.array(df[0])\n",
    "    y = np.array(df[1])\n",
    "    cov = np.matrix(df_cov)\n",
    "    model = np.zeros(len(z))\n",
    "    \n",
    "    for i in range(len(z)):\n",
    "        if df[2][i] == \"DM_over_rs\":\n",
    "            # Note: I did some trickery because z is meant to be an array\n",
    "            model[i] = D_M_H0([z[i],z[i]],[Omg_c , Omg_b , 0 , Omg_r , alpha_t,0])[0]/r_d_H0([Omg_c , Omg_b , 0 , Omg_r , alpha_t,0],h)\n",
    "        else:\n",
    "            model[i] = D_H_H0([z[i],z[i]],[Omg_c, Omg_b , 0 , Omg_r , alpha_t,0])[0]/r_d_H0([Omg_c, Omg_b , 0 , Omg_r , alpha_t,0],h)\n",
    "    model = np.array(model)\n",
    "    return -0.5 * float(np.matmul(np.matmul((y-model),np.linalg.inv(cov)),np.transpose(y-model)))"
   ]
  },
  {
   "cell_type": "code",
   "execution_count": 10,
   "metadata": {},
   "outputs": [],
   "source": [
    "# SPECIFIC TO DR16 ELG DATA (3a)\n",
    "# takes a dataframe with D_V(zeff)/r_d at zeff = 0.845 and the normalized likelihood\n",
    "# and returns a likelihood for a given theta\n",
    "\n",
    "def log_likelihood_DR16_ELG(theta , df):\n",
    "    z =  [0.845,0.845] # use array just because I've been using arrays in other functions. at the end select [0]\n",
    "    Omg_c, Omg_b, h, alpha_t = theta\n",
    "\n",
    "    Omg_r = (2.47e-5*h**-2)*1.6949484\n",
    "    \n",
    "    likelihood_tointerpolate = np.array(df[1])\n",
    "    D_V_rd_tointerpolate = np.array(df[0])\n",
    "    D_V_rd_theory = D_V_H0(z,[Omg_c , Omg_b , 0 , Omg_r , alpha_t,0])/r_d_H0([Omg_c , Omg_b , 0 , Omg_r , alpha_t,0],h)\n",
    "    return np.log(np.interp(D_V_rd_theory, D_V_rd_tointerpolate, likelihood_tointerpolate)[0])"
   ]
  },
  {
   "cell_type": "code",
   "execution_count": 11,
   "metadata": {},
   "outputs": [],
   "source": [
    "# SPECIFIC TO DR16 LYA DATA (4)\n",
    "# takes a dataframe with D_M(zeff)/r_d or D_H(zeff)/r_d at zeff = 2.334 and the normalized likelihood\n",
    "# and returns a likelihood for a given theta\n",
    "\n",
    "def log_likelihood_DR16_LYA(theta , df):\n",
    "    z =  [2.334,2.334] # use array just because I've been using arrays in other functions. at the end select [0]\n",
    "    Omg_c, Omg_b, h, alpha_t = theta\n",
    "\n",
    "    Omg_r = (2.47e-5*h**-2)*1.6949484\n",
    "    \n",
    "    likelihood_tointerpolate = np.array(df[\"likelihood_ratio\"])\n",
    "    D_H_rd_tointerpolate = np.array(df[\"D_H(z=2.334)/r_d\"])\n",
    "    D_H_rd_theory = D_H_H0(z,[Omg_c , Omg_b , 0 , Omg_r , alpha_t,0])[0]/r_d_H0([Omg_c , Omg_b , 0 , Omg_r , alpha_t,0],h)\n",
    "    D_M_rd_tointerpolate = np.array(df[\"D_M(z=2.334)/r_d\"])\n",
    "    D_M_rd_theory = D_M_H0(z,[Omg_c , Omg_b , 0 , Omg_r , alpha_t,0])[0]/r_d_H0([Omg_c , Omg_b , 0 , Omg_r , alpha_t,0],h)\n",
    "    \n",
    "    interp = scipy.interpolate.LinearNDInterpolator(list(zip(D_H_rd_tointerpolate, D_M_rd_tointerpolate)), likelihood_tointerpolate)\n",
    "    ans = float(interp(D_H_rd_theory, D_M_rd_theory))\n",
    "    if np.isnan(ans) == True:\n",
    "        return 0.0\n",
    "    else:\n",
    "        return ans"
   ]
  },
  {
   "cell_type": "code",
   "execution_count": 12,
   "metadata": {},
   "outputs": [],
   "source": [
    "def log_prior(theta):\n",
    "    Omg_c, Omg_b, h, alpha_t = theta\n",
    "\n",
    "    wb = Omg_b*h**2\n",
    "    wm = (Omg_c + Omg_b)*h**2\n",
    "    if 0.025 < wm < 0.64 and 0.0025 < wb < 0.25 and 0 < Omg_c < 1 and 0 < h < 1 and -1e-50 < alpha_t < 1 :\n",
    "        return 0.0\n",
    "    return -np.inf"
   ]
  },
  {
   "cell_type": "code",
   "execution_count": 13,
   "metadata": {},
   "outputs": [],
   "source": [
    "def log_probability(theta, x, y, sigma):\n",
    "    lp = log_prior(theta)\n",
    "    x_SNe = x\n",
    "    y_SNe, df_MGS, df_DR12, df_DR16_ELG, df_DR16_LRG, df_DR16_QSO, df_DR16_LYA_auto, df_DR16_LYA_cross = y\n",
    "    cov_SNe, df_cov_DR12, df_cov_DR16_LRG, df_cov_DR16_QSO = sigma\n",
    "    \n",
    "    if not np.isfinite(lp):\n",
    "        return -np.inf\n",
    "    return lp + log_likelihood_SNe(theta, x_SNe, y_SNe, cov_SNe)\\\n",
    "            +log_likelihood_MGS(theta,df_MGS)+log_likelihood_DR16_ELG(theta , df_DR16_ELG)\\\n",
    "            + log_likelihood_DR16_LYA(theta , df_DR16_LYA_auto) + log_likelihood_DR16_LYA(theta , df_DR16_LYA_cross)\\\n",
    "            +log_likelihood_DMDH(theta , df_DR12, df_cov_DR12) + log_likelihood_DMDH(theta, df_DR16_QSO,df_cov_DR16_QSO) \\\n",
    "            + log_likelihood_DMDH(theta, df_DR16_LRG,df_cov_DR16_LRG) \\\n",
    "\n",
    "\n",
    "# NOTE: DR12, DR16QSO and DR16LRG data give strange error. This doesn't occur if we change the covariance matrix (ex. make it diagonal). Ask Danielle"
   ]
  },
  {
   "cell_type": "markdown",
   "metadata": {
    "tags": []
   },
   "source": [
    "# Getting the data"
   ]
  },
  {
   "cell_type": "markdown",
   "metadata": {
    "tags": []
   },
   "source": [
    "## SNe data\n",
    "\n",
    "The data we will use for SNe data come from  Betoule+2014 (https://arxiv.org/pdf/1401.4064.pdf) and can be downloaded from http://supernovae.in2p3.fr/sdss_snls_jla/ReadMe.html. This is the data that Planck 2015 used to test alternatives to LCDM."
   ]
  },
  {
   "cell_type": "code",
   "execution_count": 14,
   "metadata": {},
   "outputs": [],
   "source": [
    "#import data for SNe\n",
    "\n",
    "# get the data\n",
    "\n",
    "# data values for z_b, mu_b\n",
    "tab_vals = Table.read(r'~/Desktop/Newcastle/4DEGB/Data/SneTable.tex')\n",
    "\n",
    "# covariance matrix for our data - NOTE MISS FACTOR OF 10^-6\n",
    "tab_cov = Table.read(r'/home/c2042999/Desktop/Newcastle/4DEGB/Data/SneTable_covmat.tex')\n",
    "\n",
    "# get it in matrix form\n",
    "tab_cov = np.lib.recfunctions.structured_to_unstructured(tab_cov.as_array())\n",
    "tab_cov = tab_cov.filled(0)\n",
    "# get the correct symmetric format\n",
    "tab_cov = 1e-6 * (np.rot90(np.fliplr(tab_cov)) + tab_cov - np.diag(np.diag(tab_cov)))"
   ]
  },
  {
   "cell_type": "code",
   "execution_count": 15,
   "metadata": {},
   "outputs": [
    {
     "data": {
      "image/png": "[encoded data removed]",
      "text/plain": [
       "<Figure size 640x480 with 1 Axes>"
      ]
     },
     "metadata": {},
     "output_type": "display_data"
    }
   ],
   "source": [
    "# Plot data SNe\n",
    "\n",
    "x_SNe = np.array(tab_vals[\"$z_b$\"])\n",
    "cov_SNe = tab_cov\n",
    "y_SNe = np.array(tab_vals[\"$\\mu_b$\"])\n",
    "\n",
    "plt.errorbar(x_SNe, y_SNe, yerr=np.array(np.sqrt(np.diag(cov_SNe))),ls = \"none\", linewidth=1, capsize=6, color = \"b\")\n",
    "plt.scatter(x_SNe, y_SNe, s = 5, marker = \"h\", color = \"b\")\n",
    "\n",
    "plt.xlabel(\"z\")\n",
    "plt.ylabel(r\"$\\mu(z)$\");\n",
    "plt.xscale(\"log\")"
   ]
  },
  {
   "cell_type": "markdown",
   "metadata": {
    "tags": []
   },
   "source": [
    "## BAO data\n",
    "\n",
    "The data we will use is the same as that used in DESY3 results: DE and MG paper.\n",
    "\n",
    "This is the data we will use (explanation taken from Alam+2020 THE COMPLETED SDSS-IV EXTENDED BOSS). All data from https://svn.sdss.org/public/data/eboss/DR16cosmo/tags/v1_0_0/likelihoods/BAO-only/ and saved locally in SDSS_BOSS_data\n",
    "1. Main Galaxy Sample (MGS): \n",
    "\n",
    "    a. Ross+2015 https://arxiv.org/pdf/1409.3242.pdf \n",
    "    \n",
    "    b. data from arxiv .dat file. Saved locally as chid_MGSconsensus.dat\n",
    "    \n",
    "    c. Gives us D_V_etc = $D_V/D_{V,fid} \\times r_{d,fid}/r_d$\n",
    "    \n",
    "    d. For our fiducial cosmology (Flat, Omega_matter=0.31, h =0.67), $D^{\\rm fid}_V(z) = 638.95$ Mpc and $r_d^{\\rm fid} = 148.69$ Mpc.\n",
    "\n",
    "    \n",
    "2. BOSS DR12 Galaxies (BOSS Galaxies) - DR12_LRG: \n",
    "\n",
    "    a. Alam+2017 https://arxiv.org/pdf/1607.03155.pdf table 7 (BAO-only)\n",
    "    \n",
    "    b. \"These results were computed over all three redshift intervals after fully accounting for systematic errors and covariances between parameters and between redshift bins\"\n",
    "    \n",
    "    c. Gives us $D_M \\times r_{d,fid}/r_d$ (in Mpc) and $H \\times r_d/r_{d,fid}$ (in km/(sMpc)) for BAO-only measurements - we drop z = 0.61 to match DESY3 paper. For our fiducial cosmology $r_{d,fid} = 147.78 Mpc$\n",
    "\n",
    "    d. $H\\frac{r_{d}}{r_{d,fid}} = \\frac{3e5}{D_H/r_d \\times r_{d,fid}}$\n",
    "    \n",
    "3. eBOSS Galaxies and Quasars - DR16_ELG/LRG/QSO\n",
    "    \n",
    "    a. eBOSS uses $r_{d,fid} = 147.8$ Mpc\n",
    "    \n",
    "    b. We use full likelihoods (normalized to 1) for ELGs, not well described by gaussian. zeff = 0.845. The likelihoods are for values of D_V(zeff)/r_d\n",
    "\n",
    "4.  Lyman-alpha likelihoods - DR16_LYA\n",
    "\n",
    "    a. The auto- and cross-correlations can be treated as independent\n",
    "    \n",
    "    b. Column 1:  (DM/rd) at z=2.334, Column 2:  (DH/rd) at z=2.334, Column 3:  likelihood (relative to the best point on the grid)\n",
    "\n",
    "Note that we get the gaussian likelihood estimates (just for plots) from Alam+2020 "
   ]
  },
  {
   "cell_type": "code",
   "execution_count": 16,
   "metadata": {},
   "outputs": [],
   "source": [
    "# 1. Main Galaxy Sample - Ross+2015, with z_eff =  0.15\n",
    "\n",
    "df_DV_MGS = pd.read_csv('~/Desktop/Newcastle/4DEGB/Data/chid_MGSconsensus.dat',delim_whitespace=True)"
   ]
  },
  {
   "cell_type": "code",
   "execution_count": 17,
   "metadata": {},
   "outputs": [],
   "source": [
    "# 2. DR12 BOSS Galaxies data\n",
    "\n",
    "df_DMDH_DR12 = pd.read_csv('~/Desktop/Newcastle/4DEGB/Data/SDSS_BOSS_data/DR12_LRG.txt',delim_whitespace=True, header=None)\n",
    "df_cov_DR12 = pd.read_csv('~/Desktop/Newcastle/4DEGB/Data/SDSS_BOSS_data/DR12_LRG_cov.txt',delim_whitespace=True, header=None)\n",
    "\n",
    "# compare to values in Alam+2020 paper: D_M_over_rd = 10.23,13.36, err = 0.17,0.21\n",
    "# and D_H_over_rd = 25,22.33, err = 0.76,0.58"
   ]
  },
  {
   "cell_type": "code",
   "execution_count": 18,
   "metadata": {},
   "outputs": [],
   "source": [
    "# 3a. DR16 eBOSS ELGs\n",
    "\n",
    "df_DV_DR16_ELG = pd.read_csv('~/Desktop/Newcastle/4DEGB/Data/SDSS_BOSS_data/DR16_ELG_DV_likelihood.txt' , delim_whitespace=True, header=None)"
   ]
  },
  {
   "cell_type": "code",
   "execution_count": 19,
   "metadata": {},
   "outputs": [],
   "source": [
    "# 3b. DR16 eBOSS LRGs\n",
    "\n",
    "df_DMDH_DR16_LRG = pd.read_csv('~/Desktop/Newcastle/4DEGB/Data/SDSS_BOSS_data/DR16_LRG_DM_DH.txt',delim_whitespace=True, header=None)\n",
    "df_cov_DR16_LRG = pd.read_csv('~/Desktop/Newcastle/4DEGB/Data/SDSS_BOSS_data/DR16_LRG_DM_DH_cov.txt',delim_whitespace=True, header=None)"
   ]
  },
  {
   "cell_type": "code",
   "execution_count": 20,
   "metadata": {},
   "outputs": [],
   "source": [
    "# 3c. DR16 eBOSS QSOs\n",
    "\n",
    "df_DMDH_DR16_QSO = pd.read_csv('~/Desktop/Newcastle/4DEGB/Data/SDSS_BOSS_data/DR16_QSO_DM_DH.txt',delim_whitespace=True, header=None)\n",
    "df_cov_DR16_QSO = pd.read_csv('~/Desktop/Newcastle/4DEGB/Data/SDSS_BOSS_data/DR16_QSO_DM_DH_covtot.txt',delim_whitespace=True, header=None)"
   ]
  },
  {
   "cell_type": "code",
   "execution_count": 21,
   "metadata": {},
   "outputs": [],
   "source": [
    "# 4. LYA auto/cross\n",
    "\n",
    "df_DMDH_LYA_auto = pd.read_csv('~/Desktop/Newcastle/4DEGB/Data/SDSS_BOSS_data/DR16_LYA_auto_BAO_DMDH_likelihood.txt' , delim_whitespace=True)\n",
    "df_DMDH_LYA_cross = pd.read_csv('~/Desktop/Newcastle/4DEGB/Data/SDSS_BOSS_data/DR16_LYA_cross_BAO_DMDH_likelihood.txt' , delim_whitespace=True)"
   ]
  },
  {
   "cell_type": "markdown",
   "metadata": {
    "tags": []
   },
   "source": [
    "### Plotting the data and the likelihoods"
   ]
  },
  {
   "cell_type": "code",
   "execution_count": 22,
   "metadata": {
    "tags": []
   },
   "outputs": [
    {
     "data": {
      "image/png": "[encoded data removed]",
      "text/plain": [
       "<Figure size 640x480 with 1 Axes>"
      ]
     },
     "metadata": {},
     "output_type": "display_data"
    }
   ],
   "source": [
    "# PLOT THE log_likelihood_MGS/ELG(theta , df) FUNCTION\n",
    "\n",
    "#We choose Omg_c = np.linspace(0,1,100), Omg_b = 0.05 and h = 1.6 to span the likelihood\n",
    "\n",
    "for i in range(100):\n",
    "    theta = [np.linspace(0,1,100)[i], 0.05, 1.6,0]\n",
    "    Omg_r = (2.47e-5*1.6**-2)*1.6949484 # last factor due to neutrinos\n",
    "    plt.scatter(D_V_H0([0.15,0.15],[np.linspace(0,1,100)[i] , 0.05 , 0 , Omg_r ,0,0])[0]/r_d_H0([np.linspace(0,1,100)[i] , 0.05 , 0 , Omg_r ,0,0],1.6),log_likelihood_MGS(theta,df_DV_MGS), color = \"b\")\n",
    "    plt.scatter(D_V_H0([0.15,0.15],[np.linspace(0,1,100)[i] , 0.05 , 0 , Omg_r ,0,0])[0]/r_d_H0([np.linspace(0,1,100)[i] , 0.05 , 0 , Omg_r ,0,0],1.6),log_likelihood_DR16_ELG(theta,df_DV_DR16_ELG), color = \"r\")\n",
    "\n",
    "plt.scatter( 4, 10, color = \"r\", label = \"ELG\")\n",
    "plt.scatter( 4, 10, color = \"b\", label = \"MGS\")\n",
    "\n",
    "plt.xlabel(r\"$\\Omega_c$\")\n",
    "plt.ylabel(\"log likelihood\")\n",
    "title_string = r\"Plot of the likelihoods for MGS/ELG data\"\n",
    "subtitle_string = r\"We choose $\\Omega_c$ = np.linspace(0,1,100), $\\Omega_b$ = 0.05 and $h$ = 1.6 to span the likelihood of $D_V(z=2.334)/r_d$\"\n",
    "plt.suptitle(title_string, y=0.98, fontsize=15)\n",
    "plt.title(subtitle_string, fontsize=10)\n",
    "\n",
    "plt.ylim(-6,0.5)\n",
    "plt.legend()\n",
    "plt.show()"
   ]
  },
  {
   "cell_type": "code",
   "execution_count": 23,
   "metadata": {
    "tags": []
   },
   "outputs": [
    {
     "name": "stderr",
     "output_type": "stream",
     "text": [
      "/tmp/ipykernel_492624/618969643.py:34: UserWarning: Matplotlib is currently using module://matplotlib_inline.backend_inline, which is a non-GUI backend, so cannot show the figure.\n",
      "  fig.show()\n"
     ]
    },
    {
     "data": {
      "image/png": "[encoded data removed]",
      "text/plain": [
       "<Figure size 640x480 with 4 Axes>"
      ]
     },
     "metadata": {},
     "output_type": "display_data"
    }
   ],
   "source": [
    "# PLOT THE log_likelihood_LYA(theta , df) FUNCTION\n",
    "\n",
    "#We choose Omg_c = np.linspace(0,1,100), Omg_b = 0.05 and h = 1.6 to span the likelihood\n",
    "\n",
    "fig, axs = plt.subplots(2)\n",
    "plt.title(r\"Likelihood for our LY-$\\alpha$ data\")\n",
    "\n",
    "Z_val = df_DMDH_LYA_auto.pivot_table(index='D_M(z=2.334)/r_d', columns='D_H(z=2.334)/r_d', values='likelihood_ratio').T.values\n",
    "X_unique = np.sort(df_DMDH_LYA_auto[\"D_M(z=2.334)/r_d\"].unique())\n",
    "Y_unique = np.sort(df_DMDH_LYA_auto[\"D_H(z=2.334)/r_d\"].unique())\n",
    "X_val, Y_val = np.meshgrid(X_unique, Y_unique)\n",
    "\n",
    "axs[0].contourf(X_val,Y_val,Z_val)\n",
    "axs[0].set_ylabel(r\"$D_H(z=2.334)/r_d$\")\n",
    "axs[0].set_xlim(34,42)\n",
    "axs[0].set_ylim(8.2,9.5)\n",
    "axs[0].set_title(\"auto\")\n",
    "fig.colorbar(axs[0].contourf(X_val,Y_val,Z_val), orientation='vertical') # Color Bar\n",
    "\n",
    "Z_val = df_DMDH_LYA_cross.pivot_table(index='D_M(z=2.334)/r_d', columns='D_H(z=2.334)/r_d', values='likelihood_ratio').T.values\n",
    "X_unique = np.sort(df_DMDH_LYA_cross[\"D_M(z=2.334)/r_d\"].unique())\n",
    "Y_unique = np.sort(df_DMDH_LYA_cross[\"D_H(z=2.334)/r_d\"].unique())\n",
    "X_val, Y_val = np.meshgrid(X_unique, Y_unique)\n",
    "\n",
    "axs[1].contourf(X_val,Y_val,Z_val)\n",
    "axs[1].set_xlabel(r\"$D_M(z=2.334)/r_d$\")\n",
    "axs[1].set_ylabel(r\"$D_H(z=2.334)/r_d$\")\n",
    "axs[1].set_title(\"cross\")\n",
    "axs[1].set_xlim(34,42)\n",
    "axs[1].set_ylim(8.4,10)\n",
    "fig.colorbar(axs[1].contourf(X_val,Y_val,Z_val), orientation='vertical') # Color Bar\n",
    "\n",
    "\n",
    "fig.show()"
   ]
  },
  {
   "cell_type": "code",
   "execution_count": 24,
   "metadata": {},
   "outputs": [
    {
     "data": {
      "image/png": "[encoded data removed]",
      "text/plain": [
       "<Figure size 640x480 with 1 Axes>"
      ]
     },
     "metadata": {},
     "output_type": "display_data"
    }
   ],
   "source": [
    "# Plot data BAO\n",
    "\n",
    "# Recover data points with some error\n",
    "\n",
    "# 1. Main Galaxy Sample\n",
    "\n",
    "z_MGS = 0.15\n",
    "# y is D_V/(r_d root(z))\n",
    "y_MGS = np.max(np.array(df_DV_MGS[\"D_V_etc\"]))*638.95/(148.69*np.sqrt(z_MGS))\n",
    "# for now take error from paper\n",
    "yerr_MGS = 25 / (148.69*np.sqrt(z_MGS))\n",
    "\n",
    "# 2. DR12 BOSS Galaxies data\n",
    "\n",
    "z_DR12 = np.array(df_DMDH_DR12[0])\n",
    "y_DR12 = np.zeros(len(df_DMDH_DR12[0]))\n",
    "err_DR12 = np.zeros(len(df_DMDH_DR12[0]))\n",
    "\n",
    "for i in range(len(df_DMDH_DR12[0])):\n",
    "    if df_DMDH_DR12[2][i] == \"DM_over_rs\":\n",
    "        y_DR12[i] = np.array(df_DMDH_DR12[1][i])/np.sqrt(z_DR12[i])\n",
    "        err_DR12[i] = np.sqrt(np.matrix(df_cov_DR12[i][i]))/np.sqrt(z_DR12[i])\n",
    "    else:\n",
    "        y_DR12[i] = np.array(df_DMDH_DR12[1][i])*np.sqrt(z_DR12[i])\n",
    "        err_DR12[i] = np.sqrt(np.matrix(df_cov_DR12[i][i]))*np.sqrt(z_DR12[i])\n",
    "\n",
    "# 3a. DR16 eBOSS ELGs\n",
    "\n",
    "z_DR16_ELG = 0.845\n",
    "y_DR16_ELG = np.max(np.array(df_DV_DR16_ELG[0]))/np.sqrt(z_DR16_ELG)\n",
    "# for now take error from paper\n",
    "yerr_DR16_ELG = 0.62/np.sqrt(z_DR16_ELG)\n",
    "\n",
    "# 3b. DR16 eBOSS LRGs\n",
    "z_DR16_LRG = np.array(df_DMDH_DR16_LRG[0])\n",
    "y_DR16_LRG = np.zeros(len(df_DMDH_DR16_LRG[0]))\n",
    "yerr_DR16_LRG = np.zeros(len(df_DMDH_DR16_LRG[0]))\n",
    "\n",
    "for i in range(len(df_DMDH_DR16_LRG[0])):\n",
    "    if df_DMDH_DR16_LRG[2][i] == \"DM_over_rs\":\n",
    "        y_DR16_LRG[i] = np.array(df_DMDH_DR16_LRG[1][i])/np.sqrt(z_DR16_LRG[i])\n",
    "        yerr_DR16_LRG[i] = np.sqrt(np.matrix(df_cov_DR16_LRG[i][i]))/np.sqrt(z_DR16_LRG[i])\n",
    "    else:\n",
    "        y_DR16_LRG[i] = np.array(df_DMDH_DR16_LRG[1][i])*np.sqrt(z_DR16_LRG[i])\n",
    "        yerr_DR16_LRG[i] = np.sqrt(np.matrix(df_cov_DR16_LRG[i][i]))*np.sqrt(z_DR16_LRG[i])\n",
    "\n",
    "# 3b. DR16 eBOSS LRGs\n",
    "z_DR16_QSO = np.array(df_DMDH_DR16_QSO[0])\n",
    "y_DR16_QSO = np.zeros(len(df_DMDH_DR16_QSO[0]))\n",
    "yerr_DR16_QSO = np.zeros(len(df_DMDH_DR16_QSO[0]))\n",
    "\n",
    "for i in range(len(df_DMDH_DR16_QSO[0])):\n",
    "    if df_DMDH_DR16_QSO[2][i] == \"DM_over_rs\":\n",
    "        y_DR16_QSO[i] = np.array(df_DMDH_DR16_QSO[1][i])/np.sqrt(z_DR16_QSO[i])\n",
    "        yerr_DR16_QSO[i] = np.sqrt(np.matrix(df_cov_DR16_QSO[i][i]))/np.sqrt(z_DR16_QSO[i])\n",
    "    else:\n",
    "        y_DR16_QSO[i] = np.array(df_DMDH_DR16_QSO[1][i])*np.sqrt(z_DR16_QSO[i])\n",
    "        yerr_DR16_QSO[i] = np.sqrt(np.matrix(df_cov_DR16_QSO[i][i]))*np.sqrt(z_DR16_QSO[i])\n",
    "        \n",
    "# Plot points\n",
    "\n",
    "plt.errorbar(z_MGS, y_MGS, yerr=yerr_MGS, fmt=\".b\", capsize=0, label = r\"MGS\")\n",
    "plt.errorbar(z_DR12, y_DR12, yerr=err_DR12, fmt=\".r\", capsize=0, label = r\"DR12\")\n",
    "plt.errorbar(z_DR16_ELG , y_DR16_ELG , yerr=yerr_DR16_ELG , fmt=\".k\", capsize=0, label = r\"ELG\")\n",
    "plt.errorbar(z_DR16_LRG , y_DR16_LRG , yerr=yerr_DR16_LRG , fmt=\".g\", capsize=0, label = r\"LRG\")\n",
    "plt.errorbar(z_DR16_QSO , y_DR16_QSO , yerr=yerr_DR16_QSO , fmt=\".y\", capsize=0, label = r\"QSO\")\n",
    "\n",
    "plt.title(r\"Plot of either $\\sqrt{z}D_H(z)/r_d$, $D_M(z)/r_d\\sqrt{z}$ or $D_V(z)/r_d\\sqrt{z}$\")\n",
    "plt.legend()\n",
    "plt.xlabel(\"redshift z\")\n",
    "plt.ylabel(\"Expansion history\");"
   ]
  },
  {
   "cell_type": "markdown",
   "metadata": {
    "tags": []
   },
   "source": [
    "# Processing the data"
   ]
  },
  {
   "cell_type": "code",
   "execution_count": 25,
   "metadata": {},
   "outputs": [],
   "source": [
    "# Choose the seed parameters.\n",
    "Omg_c_est = 0.3\n",
    "h_est = 0.5\n",
    "alpha_t_est = 1e-1\n",
    "Omg_b_est = 0.05"
   ]
  },
  {
   "cell_type": "code",
   "execution_count": null,
   "metadata": {},
   "outputs": [
    {
     "name": "stderr",
     "output_type": "stream",
     "text": [
      " 26%|█████████▉                            | 260/1000 [26:20<1:12:46,  5.90s/it]/tmp/ipykernel_492624/41989535.py:15: IntegrationWarning: The occurrence of roundoff error is detected, which prevents \n",
      "  the requested tolerance from being achieved.  The error may be \n",
      "  underestimated.\n",
      "  chi = scipy.integrate.quad(lambda x: 1/E(x,cosmo), 0 , z[i])[0]\n",
      " 26%|█████████▉                            | 261/1000 [26:24<1:07:41,  5.50s/it]/tmp/ipykernel_492624/782009590.py:11: IntegrationWarning: The occurrence of roundoff error is detected, which prevents \n",
      "  the requested tolerance from being achieved.  The error may be \n",
      "  underestimated.\n",
      "  chi = scipy.integrate.quad(lambda x: 1/E(x,cosmo), 0 , z[i])[0]\n",
      " 96%|████████████████████████████████████▍ | 960/1000 [1:30:24<03:07,  4.70s/it]"
     ]
    }
   ],
   "source": [
    "#MCMC method\n",
    "\n",
    "# initializing the walkers in a tiny Gaussian ball around the maximum likelihood result\n",
    "#and then run 10,000 steps of MCMC\n",
    "pos = [Omg_c_est , Omg_b_est, h_est, alpha_t_est] + 1e-4 * np.random.randn(50, 4)\n",
    "nwalkers, ndim = pos.shape\n",
    "\n",
    "sampler = emcee.EnsembleSampler(\n",
    "    nwalkers, ndim, log_probability, args=(x_SNe, \\\n",
    "    [y_SNe, df_DV_MGS, df_DMDH_DR12, df_DV_DR16_ELG, df_DMDH_DR16_LRG, df_DMDH_DR16_QSO, df_DMDH_LYA_auto,df_DMDH_LYA_cross], \\\n",
    "    [cov_SNe, df_cov_DR12, df_cov_DR16_LRG, df_cov_DR16_QSO])\n",
    ")\n",
    "sampler.run_mcmc(pos, 1000, progress=True);"
   ]
  },
  {
   "cell_type": "code",
   "execution_count": null,
   "metadata": {},
   "outputs": [],
   "source": [
    "flat_samples = sampler.get_chain(discard=500, thin=15, flat=True)\n",
    "labels = [\"Omg_c\", \"Omg_b\",\"h\", \"alpha_t\"]\n",
    "print(flat_samples.shape)\n",
    "\n",
    "fig = corner.corner(\n",
    "    flat_samples, labels=labels, show_titles=True, quantiles=[0.16, 0.50, 0.84],\n",
    "                    label_kwargs={'labelpad':20, 'fontsize':0}, fontsize=8, smooth = True\n",
    ");\n",
    "\n",
    "plt.savefig('CornerPlot_GL4DEGB_4params_nucleosynth.pdf')"
   ]
  },
  {
   "cell_type": "code",
   "execution_count": null,
   "metadata": {},
   "outputs": [],
   "source": [
    "samples_chain = sampler.chain\n",
    "print(len(samples_chain))\n",
    "print(len(samples_chain[0]))\n",
    "print(len(samples_chain[0][0]))\n",
    "print(len(samples_chain[0, :, 0]))\n",
    "\n",
    "fig, ax = plt.subplots(4)\n",
    "\n",
    "for i in range(len(samples_chain)):\n",
    "    ax[0].plot(samples_chain[i, :, 0], color = \"black\")\n",
    "    ax[1].plot(samples_chain[i, :, 1], color = \"black\")\n",
    "    ax[2].plot(samples_chain[i, :, 2], color = \"black\")\n",
    "    ax[3].plot(samples_chain[i, :, 3], color = \"black\")\n"
   ]
  },
  {
   "cell_type": "code",
   "execution_count": null,
   "metadata": {},
   "outputs": [],
   "source": [
    "for i in range(ndim):\n",
    "    mcmc = np.percentile(flat_samples[:, i], [16, 50, 84])\n",
    "    q = np.diff(mcmc)\n",
    "    txt = \"\\mathrm{{{3}}} = {0:.15f}_{{-{1:.15f}}}^{{{2:.15f}}}\"\n",
    "    txt = txt.format(mcmc[1], q[0], q[1], labels[i])\n",
    "    display(Math(txt))"
   ]
  },
  {
   "cell_type": "code",
   "execution_count": null,
   "metadata": {},
   "outputs": [],
   "source": [
    "# --- PLOT DATA WITH ESTIMATED PARAMS -----\n",
    "\n",
    "# BAO\n",
    "\n",
    "# dataplt.legend()\n",
    "plt.xlabel(\"redshift z\")\n",
    "plt.ylabel(\"Expansion history\");\n",
    "\n",
    "xl = np.linspace(0.001,3,int(1e2))\n",
    "for Omg_c, Omg_b, h, alpha_t in flat_samples[np.random.randint(len(flat_samples), size=50)]:\n",
    "\n",
    "    Omg_r = (2.47e-5*h**-2)*1.6949484 \n",
    "    plt.plot(xl, np.sqrt(xl)*D_H_H0(xl,[Omg_c , Omg_b, 0 , Omg_r , alpha_t , 0])/r_d_H0([Omg_c , Omg_b, 0 , Omg_r , alpha_t , 0],h), color=\"k\", alpha=0.1)\n",
    "    plt.plot(xl, D_V_H0(xl,[Omg_c , Omg_b , 0 , Omg_r , alpha_t , 0])/(r_d_H0([Omg_c , Omg_b , 0 , Omg_r , alpha_t , 0],h)*np.sqrt(xl)), color=\"r\", alpha=0.1)\n",
    "    plt.plot(xl, D_M_H0(xl,[Omg_c , Omg_b , 0 , Omg_r , alpha_t , 0])/(r_d_H0([Omg_c ,Omg_b , 0 , Omg_r , alpha_t , 0],h)*np.sqrt(xl)), color=\"b\", alpha=0.1)\n"
   ]
  },
  {
   "cell_type": "code",
   "execution_count": null,
   "metadata": {},
   "outputs": [],
   "source": [
    "# --- SNe: PLOT DATA WITH ESTIMATED PARAMS -----\n",
    "\n",
    "xl = np.linspace(0.01,3,int(1e2))\n",
    "for Omg_c,Omg_b, h, alpha_t in flat_samples[np.random.randint(len(flat_samples), size=100)]:\n",
    "\n",
    "    H0 = 100*h\n",
    "    Omg_r = (2.47e-5*h**-2)*1.6949484 \n",
    "    mu_val = mu(D_L(xl, [Omg_c , 0.05 , 0 , Omg_r , alpha_t , 0], H0))\n",
    "    plt.plot(xl, np.array(mu_val), color=\"k\", alpha=0.1)\n",
    "    \n",
    "plt.errorbar(x_SNe, y_SNe, yerr=np.array(np.sqrt(np.diag(cov_SNe))),ls = \"none\", linewidth=1, capsize=6, color = \"b\")\n",
    "plt.scatter(x_SNe, y_SNe, s = 5, marker = \"h\", color = \"b\")\n",
    "\n",
    "plt.xlabel(\"z\")\n",
    "plt.ylabel(r\"$\\mu(z)$\");\n",
    "plt.xscale(\"log\")"
   ]
  },
  {
   "cell_type": "code",
   "execution_count": null,
   "metadata": {},
   "outputs": [],
   "source": []
  },
  {
   "cell_type": "code",
   "execution_count": null,
   "metadata": {},
   "outputs": [],
   "source": []
  },
  {
   "cell_type": "code",
   "execution_count": null,
   "metadata": {},
   "outputs": [],
   "source": []
  },
  {
   "cell_type": "code",
   "execution_count": null,
   "metadata": {},
   "outputs": [],
   "source": []
  },
  {
   "cell_type": "code",
   "execution_count": null,
   "metadata": {},
   "outputs": [],
   "source": []
  },
  {
   "cell_type": "code",
   "execution_count": null,
   "metadata": {},
   "outputs": [],
   "source": []
  },
  {
   "cell_type": "code",
   "execution_count": null,
   "metadata": {},
   "outputs": [],
   "source": []
  },
  {
   "cell_type": "code",
   "execution_count": null,
   "metadata": {},
   "outputs": [],
   "source": []
  },
  {
   "cell_type": "code",
   "execution_count": null,
   "metadata": {},
   "outputs": [],
   "source": []
  },
  {
   "cell_type": "code",
   "execution_count": null,
   "metadata": {},
   "outputs": [],
   "source": []
  },
  {
   "cell_type": "code",
   "execution_count": null,
   "metadata": {},
   "outputs": [],
   "source": []
  }
 ],
 "metadata": {
  "kernelspec": {
   "display_name": "Python 3 (ipykernel)",
   "language": "python",
   "name": "python3"
  },
  "language_info": {
   "codemirror_mode": {
    "name": "ipython",
    "version": 3
   },
   "file_extension": ".py",
   "mimetype": "text/x-python",
   "name": "python",
   "nbconvert_exporter": "python",
   "pygments_lexer": "ipython3",
   "version": "3.9.16"
  }
 },
 "nbformat": 4,
 "nbformat_minor": 4
}
