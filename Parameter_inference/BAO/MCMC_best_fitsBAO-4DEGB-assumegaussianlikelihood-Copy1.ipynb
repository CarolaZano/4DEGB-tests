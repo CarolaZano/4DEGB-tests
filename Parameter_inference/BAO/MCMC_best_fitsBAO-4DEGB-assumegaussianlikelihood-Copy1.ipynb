{
 "cells": [
  {
   "cell_type": "code",
   "execution_count": 29,
   "metadata": {},
   "outputs": [],
   "source": [
    "# TODO: z_d, z_nucleosynthesis\n",
    "# TODO: non-gaussian and covariant likelihoods\n",
    "\n",
    "import numpy as np\n",
    "import emcee\n",
    "import matplotlib.pyplot as plt\n",
    "from scipy.optimize import minimize\n",
    "import corner\n",
    "from IPython.display import display, Math\n",
    "import pandas as pd\n",
    "import scipy\n",
    "from scipy.integrate import odeint\n"
   ]
  },
  {
   "cell_type": "code",
   "execution_count": 30,
   "metadata": {},
   "outputs": [],
   "source": [
    "#------ BACKGROUND EQUATIONS ------\n",
    "\n",
    "# Equation 2.14\n",
    "def Omega_Lambda(cosmo):\n",
    "    Omega_c , Omega_b , Omega_k , Omega_r, alpha_tilde, C_t = cosmo\n",
    "    Omega_m = Omega_c + Omega_b\n",
    "    \n",
    "    return 1 - Omega_m - Omega_r - Omega_k + alpha_tilde * (1 - C_t**2 + Omega_k**2 - 2*Omega_k)\n",
    "\n",
    "# Equation 2.13\n",
    "def X(z, cosmo):\n",
    "    \n",
    "    Omega_c , Omega_b , Omega_k , Omega_r, alpha_tilde, C_t = cosmo\n",
    "    Omega_m = Omega_c + Omega_b\n",
    "    Omega_lambda = Omega_Lambda(cosmo)\n",
    "    \n",
    "    return 1 + 4 * alpha_tilde * (Omega_m * (1 + z) ** 3 + (Omega_r + alpha_tilde*C_t**2) * (1 + z)** 4 + Omega_lambda)\n",
    "\n",
    "# Equation 2.12\n",
    "def E(z , cosmo):\n",
    "    \n",
    "    Omega_c , Omega_b , Omega_k , Omega_r, alpha_tilde, C_t = cosmo\n",
    "    Omega_m = Omega_c + Omega_b\n",
    "    Omega_lambda = Omega_Lambda(cosmo)\n",
    "    \n",
    "    E_L = Omega_m * (1 + z) ** 3 + (Omega_r + alpha_tilde*C_t**2) * (1 + z) ** 4 + Omega_k * (1 + z) ** 2 + Omega_lambda\n",
    "    \n",
    "    if alpha_tilde == 0:\n",
    "        ans = np.sqrt(E_L + Omega_k * (1 + z) ** 2)\n",
    "    \n",
    "    # small alpha approximation to deal with numerical instabilities\n",
    "    elif alpha_tilde < 1e-10 and E_L < 1e4:\n",
    "        ans = np.sqrt(E_L + Omega_k * (1 + z) ** 2 - alpha_tilde* (E_L**2)/4)\n",
    "    \n",
    "    else:\n",
    "        ans = np.sqrt((np.sqrt(X(z , cosmo)) - 1 + (2 * alpha_tilde * Omega_k * (1+z) ** 2))/(2 * alpha_tilde))\n",
    "    \n",
    "    return ans\n"
   ]
  },
  {
   "cell_type": "code",
   "execution_count": 31,
   "metadata": {},
   "outputs": [],
   "source": [
    "# ------ equations for BAO ------ c = 1\n",
    "\n",
    "# Angular diameter distance\n",
    "def D_M_H0(z,cosmo):\n",
    "    Omega_c , Omega_b , Omega_k , Omega_r , alpha_tilde, C_t = cosmo\n",
    "    Omega_m = Omega_c + Omega_b\n",
    "    Omega_lambda = Omega_Lambda(cosmo)\n",
    "\n",
    "    D = np.zeros(len(z))\n",
    "    for i in range(len(z)):\n",
    "        chi = scipy.integrate.quad(lambda x: 1/E(x,cosmo), 0 , z[i])[0]\n",
    "        if Omega_k > 0:\n",
    "            D[i] = np.sinh(np.sqrt(Omega_k)*chi)/np.sqrt(Omega_k)\n",
    "        elif Omega_k < 0:\n",
    "            D[i] = np.sin(np.sqrt(Omega_k)*chi)/np.sqrt(Omega_k)\n",
    "        else:\n",
    "            D[i] = chi\n",
    "    return D\n",
    "\n",
    "# Hubble distance\n",
    "def D_H_H0(z,cosmo):\n",
    "    D = np.zeros(len(z))\n",
    "    for i in range(len(z)):\n",
    "        D[i] = 1/E(z[i],cosmo)\n",
    "    return D\n",
    "\n",
    "# Spherically-averaged distance (historical BAO distance)\n",
    "def D_V_H0(z,cosmo):\n",
    "    return (z*D_H_H0(z,cosmo)*D_M_H0(z,cosmo)**2)**(1/3)\n",
    "\n",
    "# Used to find r_s - defined as 3 Omg_b/4Omg_r\n",
    "def R_b(cosmo):\n",
    "    Omega_c , Omega_b , Omega_k , Omega_r , alpha_tilde, C_t = cosmo\n",
    "    return 3*Omega_b/(4*Omega_r)\n",
    "\n",
    "# Note that we assumed sound horizon was zero at the end of nucleosynthesis\n",
    "def r_d_H0(cosmo,h):\n",
    "    Omega_c , Omega_b , Omega_k , Omega_r , alpha_tilde, C_t = cosmo\n",
    "    Omega_m = Omega_c + Omega_b\n",
    "    \n",
    "    return scipy.integrate.quad(lambda x: 1/((x**2)*E(1/x -1, cosmo)*np.sqrt(3*(1 + R_b(cosmo)*x))), 2.5e-9, 1/(1+z_d(cosmo, 100*h)))[0]"
   ]
  },
  {
   "cell_type": "code",
   "execution_count": 216,
   "metadata": {},
   "outputs": [],
   "source": [
    "# redshift at drag epoch\n",
    "# See https://arxiv.org/pdf/1306.3208.pdf Appendix B and Weinberg Cosmology pg 114 - 123\n",
    "# OUTLINE:\n",
    "# def n_b(cosmo, T), S(cosmo, T), mathcalA(T), P(cosmo, n_1s), beta(T)\n",
    "# Solve modified Peebles eqn (X = n_p/n, n= 0.76n_b) to find n_p(T, cosmo)\n",
    "# Find n_p(z,cosmo) instead, solve for tau_d(z,cosmo)\n",
    "# Find z_d(cosmo) (for which tau_d = 1)\n",
    "\n",
    "# Note: [T] = K, [H0] = km/s/Mpc, [n_p] = m^-3\n",
    "# Number density of baryons. [n_b] = m^-3\n",
    "def n_b(cosmo, T, H0):\n",
    "    T0 = 2.275 # K\n",
    "    Omega_c , Omega_b , Omega_k , Omega_r , alpha_tilde, C_t = cosmo\n",
    "    #n_b_0 = 3 * Omega_b * (H0 ** 2) / (8*np.pi*G*m_n) -- consistent with eq below\n",
    "    n_b_0 = 4.218e-1*(H0/1e2)**2*Omega_b\n",
    "    return n_b_0 * (T/T0)**3\n",
    "\n",
    "# Total hydrogen number density. [n] = m^-3\n",
    "# ~76% of total number density (n_b) (assuming *close to recombination*) is the total hydrogen number density (n) \n",
    "# n_b = n_p (ionized) + n_1s (neutral)\n",
    "def n(cosmo, T, H0):\n",
    "    return 0.76*n_b(cosmo, T, H0)\n",
    "\n",
    "# [S] = 1 (unitless)\n",
    "def S(cosmo, T, H0):\n",
    "    Omega_c , Omega_b , Omega_k , Omega_r , alpha_tilde, C_t = cosmo\n",
    "    return 1.747e-22*np.exp(157894/T)*T**1.5*Omega_b*(H0/100)**2\n",
    "    \n",
    "# [mathcalA] = m^3 s^-1 (from Weinberg * 1e-6)\n",
    "def mathcalA(T):\n",
    "    return (1.4377e-10*T**-0.6166/(1 + 5.085*(10**-3)*T**0.53))*1e-6\n",
    "    \n",
    "# [beta] = s^-1\n",
    "def beta(T):\n",
    "    return 2.4147e21*(T**1.5)*np.exp(-39474/T)*mathcalA(T)\n",
    "\n",
    "# [n_p_BC] = m^-3 (Gives boundary condition: an n_p for a given T)\n",
    "# Note: for BC they advise to use T = 4226 K\n",
    "# Note: If S is small use approx\n",
    "def X_BC(cosmo, T, H0):\n",
    "    X = (np.sqrt(1+4*S(cosmo, T, H0)) - 1)/(2*S(cosmo, T, H0))\n",
    "    return X\n",
    "    \n",
    "# [dn_p/dT] = m^-3 K^-1 (consistent)\n",
    "def dXdT(X, T, args):\n",
    "    if T < 0:\n",
    "        return 0\n",
    "    else:\n",
    "        cosmo , H0 = args\n",
    "        Gamma_2s = 8.22458 #s^-1\n",
    "        lambda_alpha = 1215.682e-10 # m\n",
    "        T0 = 2.275 # K\n",
    "        z = (T/T0) - 1\n",
    "        H = H0*E(z , cosmo)/3.086e19\n",
    "\n",
    "        denom1 = 1 + beta(T)/(Gamma_2s + 8*np.pi*H/(lambda_alpha**3 * n(cosmo, T, H0)*(1-X)))\n",
    "        return mathcalA(T)*n(cosmo, T, H0)*(X**2 - (1-X)/S(cosmo, T, H0))/(H*T*denom1)\n",
    "\n",
    "def z_d(cosmo, H0):\n",
    "    T_val = np.linspace(4500, 1, int(1e3))\n",
    "    X_val = odeint(dXdT, X_BC(cosmo, 4500, H0), T_val, args=([cosmo,H0],), mxstep=int(1e4))\n",
    "    X_val = np.transpose(X_val)[0]\n",
    "    n_p_T = X_val*n(cosmo, T_val, H0)\n",
    "    z = np.linspace(400,1600, int(1e2))\n",
    "    tau = np.zeros(len(z))\n",
    "    for i in range(len(z)):\n",
    "        tau[i] = scipy.integrate.quad(lambda x: -np.interp(-(x+1)*2.275, -T_val, -n_p_T)*(1+x)/E(x,cosmo), 0 , z[i])[0]\n",
    "    tau = (4*cosmo[3]/(3*cosmo[1]))*tau*6.652e-29*2.998e8 / (H0/3.086e19)\n",
    "    return float(np.interp(1,tau,z))\n",
    "\n",
    "def z_d_LCDM(cosmo,H0):\n",
    "    Omega_c , Omega_b , Omega_k , Omega_r , alpha_tilde, C_t = cosmo\n",
    "    wb = Omega_b*(H0/100)**2\n",
    "    wm = (Omega_c + Omega_b)*(H0/100)**2\n",
    "    b1 = 0.313*(wm**-0.419)*(1 + 0.607*wm**0.674)\n",
    "    b2 = 0.238*wm**0.223\n",
    "    return 1291*(wm**0.251)*(1 + b1*wb**b2)/(1+0.659*wm**0.828)\n",
    "\n",
    "def z_recomb_LCDM(cosmo, H0):\n",
    "    Omega_c , Omega_b , Omega_k , Omega_r , alpha_tilde, C_t = cosmo\n",
    "    wb = Omega_b*(H0/100)**2\n",
    "    wm = (Omega_c + Omega_b)*(H0/100)**2\n",
    "    g1 = 0.0783*(wb**-0.238)/(1+39.5*wb**0.763)\n",
    "    g2 = 0.56/(1+21.1*wb**1.81)\n",
    "    return 1048*(1+0.00124*wb**-0.738)*(1+g1*wm**g2)"
   ]
  },
  {
   "cell_type": "code",
   "execution_count": 220,
   "metadata": {},
   "outputs": [
    {
     "name": "stderr",
     "output_type": "stream",
     "text": [
      "/tmp/ipykernel_768553/1878583708.py:27: RuntimeWarning: overflow encountered in exp\n",
      "  return 1.747e-22*np.exp(157894/T)*T**1.5*Omega_b*(H0/100)**2\n",
      "/tmp/ipykernel_768553/1878583708.py:67: IntegrationWarning: The occurrence of roundoff error is detected, which prevents \n",
      "  the requested tolerance from being achieved.  The error may be \n",
      "  underestimated.\n",
      "  tau[i] = scipy.integrate.quad(lambda x: -np.interp(-(x+1)*2.275, -T_val, -n_p_T)*(1+x)/E(x,cosmo), 0 , z[i])[0]\n",
      "/tmp/ipykernel_768553/1878583708.py:67: IntegrationWarning: The maximum number of subdivisions (50) has been achieved.\n",
      "  If increasing the limit yields no improvement it is advised to analyze \n",
      "  the integrand in order to determine the difficulties.  If the position of a \n",
      "  local difficulty can be determined (singularity, discontinuity) one will \n",
      "  probably gain from splitting up the interval and calling the integrator \n",
      "  on the subranges.  Perhaps a special-purpose integrator should be used.\n",
      "  tau[i] = scipy.integrate.quad(lambda x: -np.interp(-(x+1)*2.275, -T_val, -n_p_T)*(1+x)/E(x,cosmo), 0 , z[i])[0]\n"
     ]
    }
   ],
   "source": [
    "Omg_b = 0.045\n",
    "h = np.linspace(0.1,0.9, int(1e2))\n",
    "Omg_r = (2.47e-5*h**-2)*1.6917688896\n",
    "z_d_arr = np.zeros(int(1e2))\n",
    "for i in range(int(1e2)):\n",
    "    z_d_arr[i] = z_d([0.264,Omg_b,0,Omg_r[i],0,0],100*h[i])"
   ]
  },
  {
   "cell_type": "code",
   "execution_count": 221,
   "metadata": {},
   "outputs": [
    {
     "data": {
      "text/plain": [
       "Text(0, 0.5, 'z_d')"
      ]
     },
     "execution_count": 221,
     "metadata": {},
     "output_type": "execute_result"
    },
    {
     "data": {
      "image/png": "[encoded data removed]",
      "text/plain": [
       "<Figure size 640x480 with 1 Axes>"
      ]
     },
     "metadata": {},
     "output_type": "display_data"
    }
   ],
   "source": [
    "plt.plot(h, z_d_LCDM([0.264,Omg_b,0,Omg_r,0,0],100*h), label = \"fitting function\")\n",
    "#plt.plot(Omg_b*h**2, z_d_arr1, label = \"my method1\")\n",
    "plt.plot(h, z_d_arr, label = \"my method\")\n",
    "#plt.plot(Omg_b*h**2, z_recomb_LCDM([0.264,Omg_b,0,Omg_r, 0,0],100*h), label = \"z*\")\n",
    "plt.legend()\n",
    "plt.xlabel(\"w_b\")\n",
    "plt.ylabel(\"z_d\")"
   ]
  },
  {
   "cell_type": "code",
   "execution_count": 118,
   "metadata": {},
   "outputs": [
    {
     "name": "stderr",
     "output_type": "stream",
     "text": [
      "/tmp/ipykernel_768553/3022291161.py:27: RuntimeWarning: overflow encountered in exp\n",
      "  return 1.747e-22*np.exp(157894/T)*T**1.5*Omega_b*(H0/100)**2\n"
     ]
    },
    {
     "data": {
      "text/plain": [
       "<matplotlib.collections.PathCollection at 0x7f0bb534b4c0>"
      ]
     },
     "execution_count": 118,
     "metadata": {},
     "output_type": "execute_result"
    },
    {
     "data": {
      "image/png": "[encoded data removed]",
      "text/plain": [
       "<Figure size 640x480 with 1 Axes>"
      ]
     },
     "metadata": {},
     "output_type": "display_data"
    }
   ],
   "source": [
    "T_val = np.linspace(4500, 25, int(1e3))\n",
    "h = 0.67\n",
    "X_val = odeint(dXdT, X_BC([0.14/h**2,0.01/h**2,0,5.44e-5, 0,0], 4500, 100*h), T_val, args=([[0.14/h**2,0.01/h**2,0,5.44e-5, 0,0],h*100],), mxstep=int(1e4))\n",
    "X_val = np.transpose(X_val)[0]\n",
    "plt.plot(T_val, X_val)\n",
    "plt.scatter(4226,0.992)\n",
    "plt.scatter(3545,0.645)\n",
    "plt.scatter(3000,0.205)"
   ]
  },
  {
   "cell_type": "code",
   "execution_count": 311,
   "metadata": {},
   "outputs": [],
   "source": [
    "def log_likelihood_DV(theta, z, y, yerr):\n",
    "    # note: c in km/s, H in km/s/Mpc and D_A in Mpc\n",
    "    \n",
    "    Omg_c, h, alpha_t = theta \n",
    "    Omg_b = 0.05 \n",
    "    \n",
    "    Omg_r = (2.47e-5*h**-2)*1.6917688896 # last factor due to neutrinos\n",
    "\n",
    "    model = D_V_H0(z,[Omg_c , Omg_b , 0 , Omg_r , alpha_t,0])/r_d_H0([Omg_c , Omg_b , 0 , Omg_r , alpha_t,0],h)\n",
    "    \n",
    "    return -0.5 * np.matmul(np.matmul((y-model),np.linalg.inv(yerr)),np.transpose(y-model))"
   ]
  },
  {
   "cell_type": "code",
   "execution_count": 312,
   "metadata": {},
   "outputs": [],
   "source": [
    "def log_likelihood_DM(theta, z, y, yerr):\n",
    "    # note: c in km/s, H in km/s/Mpc and D_A in Mpc\n",
    "    \n",
    "    Omg_c, h, alpha_t = theta \n",
    "    Omg_b = 0.05 \n",
    "    \n",
    "    Omg_r = (2.47e-5*h**-2)*1.6917688896 # last factor due to neutrinos\n",
    "    model = D_M_H0(z,[Omg_c, Omg_b , 0 , Omg_r , alpha_t,0])/r_d_H0([Omg_c, Omg_b , 0 , Omg_r , alpha_t,0],h)\n",
    "    return -0.5 * np.matmul(np.matmul((y-model),np.linalg.inv(yerr)),np.transpose(y-model))"
   ]
  },
  {
   "cell_type": "code",
   "execution_count": 313,
   "metadata": {},
   "outputs": [],
   "source": [
    "def log_likelihood_DH(theta, z, y, yerr):\n",
    "    # note: c in km/s, H in km/s/Mpc and D_A in Mpc\n",
    "    # note: log likelihood = -chi^2/2\n",
    "    Omg_c, h, alpha_t = theta \n",
    "    Omg_b = 0.05 \n",
    "\n",
    "    Omg_r = (2.47e-5*h**-2)*1.6917688896 # last factor due to neutrinos\n",
    "    model = D_H_H0(z,[Omg_c, Omg_b , 0 , Omg_r , alpha_t,0])/r_d_H0([Omg_c, Omg_b , 0 , Omg_r , alpha_t,0],h)\n",
    "    return -0.5 * np.matmul(np.matmul((y-model),np.linalg.inv(yerr)),np.transpose(y-model))"
   ]
  },
  {
   "cell_type": "code",
   "execution_count": 314,
   "metadata": {},
   "outputs": [],
   "source": [
    "def log_prior(theta):\n",
    "    Omg_c, h, alpha_t = theta \n",
    "    Omg_b = 0.05 \n",
    "\n",
    "    if 0 < Omg_c + Omg_b < 1 and 0 < h < 1 and -1e-50 < alpha_t < 1 :\n",
    "        return 0.0\n",
    "    return -np.inf"
   ]
  },
  {
   "cell_type": "code",
   "execution_count": 315,
   "metadata": {},
   "outputs": [],
   "source": [
    "def log_probability(theta, x, y, yerr):\n",
    "    Omg_c, h, alpha_t = theta \n",
    "    lp = log_prior(theta)\n",
    "    x_v, x_m, x_h = x\n",
    "    y_v, y_m, y_h = y\n",
    "    yerr_v, yerr_m, yerr_h = yerr\n",
    "    if not np.isfinite(lp):\n",
    "        return -np.inf\n",
    "    return lp + log_likelihood_DV(theta, x_v, y_v, yerr_v) + log_likelihood_DM(theta, x_m, y_m, yerr_m)\\\n",
    "            + log_likelihood_DH(theta, x_h, y_h, yerr_h)"
   ]
  },
  {
   "cell_type": "code",
   "execution_count": 316,
   "metadata": {},
   "outputs": [
    {
     "data": {
      "image/png": "[encoded data removed]",
      "text/plain": [
       "<Figure size 640x480 with 1 Axes>"
      ]
     },
     "metadata": {},
     "output_type": "display_data"
    }
   ],
   "source": [
    "#get the data\n",
    "\n",
    "# Choose the \"true\" parameters.\n",
    "Omg_c_est = 0.3\n",
    "h_est = 0.9\n",
    "alpha_t_est = 1e-5\n",
    "\n",
    "# BOSS Galaxy, eBOSS LRG, eBOSS Quasar =, Ly\\alpha-Ly\\alpha and Ly\\alpha-Quasar data\n",
    "x_D_mh_over_rd = np.array([0.38,0.51,0.70,1.48,2.33,2.33])\n",
    "\n",
    "y_D_m_over_rd = np.array([10.23,13.36,17.86,30.69,37.6,37.3])\n",
    "yerr_D_m_over_rd =np.diag([0.17,0.21,0.33,0.8,1.9,1.7])\n",
    "\n",
    "y_D_h_over_rd = np.array([25,22.33,19.33,13.26,8.93,9.08])\n",
    "yerr_D_h_over_rd =np.diag([0.76,0.58,0.53,0.55,0.28,0.34])\n",
    "\n",
    "# eBOSS ELG data\n",
    "x_ELG = 0.85\n",
    "y_ELG_Dv_over_rd = 18.33\n",
    "yerr_ELG_Dv_over_rd = 0.62 # TODO how do you account for different max/min?\n",
    "\n",
    "# 6dFGS and MGS data\n",
    "x_6dFGS = 0.106\n",
    "y_6dFGS_Dv_over_rd = 1/0.336\n",
    "yerr_6dFGS_Dv_over_rd = 0.015/0.336**2\n",
    "\n",
    "rd_fid = 148.69\n",
    "x_MGS = 0.15\n",
    "y_MGS_Dv_over_rd = 664 / rd_fid\n",
    "yerr_MGS_Dv_over_rd = 25 / rd_fid # TODO check\n",
    "\n",
    "# Combine data\n",
    "x = [np.array([x_ELG,x_6dFGS,x_MGS]),x_D_mh_over_rd,x_D_mh_over_rd]\n",
    "y = [np.array([y_ELG_Dv_over_rd,y_6dFGS_Dv_over_rd,y_MGS_Dv_over_rd]),y_D_m_over_rd,y_D_h_over_rd]\n",
    "sigma = [np.diag([yerr_ELG_Dv_over_rd**2,yerr_6dFGS_Dv_over_rd**2,yerr_MGS_Dv_over_rd**2]) , yerr_D_m_over_rd**2 , yerr_D_h_over_rd**2]\n",
    "\n",
    "# Plot our data\n",
    "plt.errorbar(x_D_mh_over_rd, y_D_m_over_rd/np.sqrt(x_D_mh_over_rd), yerr=np.diag(yerr_D_m_over_rd/np.sqrt(x_D_mh_over_rd)), fmt=\".b\", capsize=0, label = r\"$D_M(z)/r_d\\sqrt{z}$\")\n",
    "plt.errorbar(x_D_mh_over_rd, y_D_h_over_rd*np.sqrt(x_D_mh_over_rd), yerr=np.diag(yerr_D_h_over_rd)*np.sqrt(x_D_mh_over_rd), fmt=\".k\", capsize=0, label = r\"$\\sqrt{z}D_H(z)/r_d$\")\n",
    "\n",
    "plt.errorbar([x_6dFGS,x_MGS,x_ELG], [y_6dFGS_Dv_over_rd/np.sqrt(x_6dFGS), y_MGS_Dv_over_rd/np.sqrt(x_MGS), y_ELG_Dv_over_rd/np.sqrt(x_ELG)],\\\n",
    "             yerr=[yerr_6dFGS_Dv_over_rd/np.sqrt(x_6dFGS), yerr_MGS_Dv_over_rd/np.sqrt(x_MGS), yerr_ELG_Dv_over_rd/np.sqrt(x_ELG)], fmt=\".r\", capsize=0, label = r\"$D_V(z)/r_d\\sqrt{z}$\")\n",
    "plt.legend()\n",
    "x0 = np.linspace(0, 10, 500)\n",
    "plt.xlabel(\"redshift z\")\n",
    "plt.ylabel(\"Expansion history\");"
   ]
  },
  {
   "cell_type": "code",
   "execution_count": null,
   "metadata": {},
   "outputs": [
    {
     "name": "stderr",
     "output_type": "stream",
     "text": [
      "/tmp/ipykernel_731561/2921289138.py:27: RuntimeWarning: overflow encountered in exp\n",
      "  return 1.747e-22*np.exp(157894/T)*T**1.5*Omega_b*(H0/100)**2\n",
      "/tmp/ipykernel_731561/2921289138.py:72: IntegrationWarning: The occurrence of roundoff error is detected, which prevents \n",
      "  the requested tolerance from being achieved.  The error may be \n",
      "  underestimated.\n",
      "  tau[i] = scipy.integrate.quad(lambda x: -np.interp(-x, -T_val, -n_p_T)*(1+x)/E(x,cosmo), 0.01 , z[i])[0]\n",
      "/tmp/ipykernel_731561/2921289138.py:72: IntegrationWarning: The maximum number of subdivisions (50) has been achieved.\n",
      "  If increasing the limit yields no improvement it is advised to analyze \n",
      "  the integrand in order to determine the difficulties.  If the position of a \n",
      "  local difficulty can be determined (singularity, discontinuity) one will \n",
      "  probably gain from splitting up the interval and calling the integrator \n",
      "  on the subranges.  Perhaps a special-purpose integrator should be used.\n",
      "  tau[i] = scipy.integrate.quad(lambda x: -np.interp(-x, -T_val, -n_p_T)*(1+x)/E(x,cosmo), 0.01 , z[i])[0]\n",
      "  0%|                                                   | 0/500 [00:00<?, ?it/s]/home/c2042999/anaconda3/envs/4DEGB_venv2/lib/python3.9/site-packages/emcee/moves/red_blue.py:99: RuntimeWarning: invalid value encountered in double_scalars\n",
      "  lnpdiff = f + nlp - state.log_prob[j]\n",
      " 11%|████▌                                   | 57/500 [37:14<4:53:40, 39.78s/it]"
     ]
    }
   ],
   "source": [
    "#MCMC method\n",
    "\n",
    "# initializing the walkers in a tiny Gaussian ball around the maximum likelihood result\n",
    "#and then run 10,000 steps of MCMC\n",
    "pos = [Omg_c_est , h_est, alpha_t_est] + 1e-4 * np.random.randn(50, 3)\n",
    "nwalkers, ndim = pos.shape\n",
    "\n",
    "sampler = emcee.EnsembleSampler(\n",
    "    nwalkers, ndim, log_probability, args=(x, y, sigma)\n",
    ")\n",
    "sampler.run_mcmc(pos, 500, progress=True);"
   ]
  },
  {
   "cell_type": "code",
   "execution_count": null,
   "metadata": {},
   "outputs": [],
   "source": [
    "flat_samples = sampler.get_chain(discard=400, thin=15, flat=True)\n",
    "labels = [\"Omg_c\", \"h\", \"alpha_t\"]\n",
    "print(flat_samples.shape)\n",
    "\n",
    "fig = corner.corner(\n",
    "    flat_samples, labels=labels\n",
    ");"
   ]
  },
  {
   "cell_type": "code",
   "execution_count": null,
   "metadata": {},
   "outputs": [],
   "source": [
    "samples_chain = sampler.chain\n",
    "print(len(samples_chain))\n",
    "print(len(samples_chain[0]))\n",
    "print(len(samples_chain[0][0]))\n",
    "print(len(samples_chain[0, :, 0]))\n",
    "\n",
    "fig, ax = plt.subplots(3)\n",
    "\n",
    "for i in range(len(samples_chain)):\n",
    "    ax[0].plot(samples_chain[i, :, 0], color = \"black\")\n",
    "    ax[1].plot(samples_chain[i, :, 1], color = \"black\")\n",
    "    ax[2].plot(samples_chain[i, :, 2], color = \"black\")\n"
   ]
  },
  {
   "cell_type": "code",
   "execution_count": 213,
   "metadata": {},
   "outputs": [
    {
     "ename": "NameError",
     "evalue": "name 'flat_samples' is not defined",
     "output_type": "error",
     "traceback": [
      "\u001b[0;31m---------------------------------------------------------------------------\u001b[0m",
      "\u001b[0;31mNameError\u001b[0m                                 Traceback (most recent call last)",
      "\u001b[0;32m/tmp/ipykernel_731561/1811254808.py\u001b[0m in \u001b[0;36m<module>\u001b[0;34m\u001b[0m\n\u001b[1;32m      1\u001b[0m \u001b[0;32mfor\u001b[0m \u001b[0mi\u001b[0m \u001b[0;32min\u001b[0m \u001b[0mrange\u001b[0m\u001b[0;34m(\u001b[0m\u001b[0mndim\u001b[0m\u001b[0;34m)\u001b[0m\u001b[0;34m:\u001b[0m\u001b[0;34m\u001b[0m\u001b[0;34m\u001b[0m\u001b[0m\n\u001b[0;32m----> 2\u001b[0;31m     \u001b[0mmcmc\u001b[0m \u001b[0;34m=\u001b[0m \u001b[0mnp\u001b[0m\u001b[0;34m.\u001b[0m\u001b[0mpercentile\u001b[0m\u001b[0;34m(\u001b[0m\u001b[0mflat_samples\u001b[0m\u001b[0;34m[\u001b[0m\u001b[0;34m:\u001b[0m\u001b[0;34m,\u001b[0m \u001b[0mi\u001b[0m\u001b[0;34m]\u001b[0m\u001b[0;34m,\u001b[0m \u001b[0;34m[\u001b[0m\u001b[0;36m16\u001b[0m\u001b[0;34m,\u001b[0m \u001b[0;36m50\u001b[0m\u001b[0;34m,\u001b[0m \u001b[0;36m84\u001b[0m\u001b[0;34m]\u001b[0m\u001b[0;34m)\u001b[0m\u001b[0;34m\u001b[0m\u001b[0;34m\u001b[0m\u001b[0m\n\u001b[0m\u001b[1;32m      3\u001b[0m     \u001b[0mq\u001b[0m \u001b[0;34m=\u001b[0m \u001b[0mnp\u001b[0m\u001b[0;34m.\u001b[0m\u001b[0mdiff\u001b[0m\u001b[0;34m(\u001b[0m\u001b[0mmcmc\u001b[0m\u001b[0;34m)\u001b[0m\u001b[0;34m\u001b[0m\u001b[0;34m\u001b[0m\u001b[0m\n\u001b[1;32m      4\u001b[0m     \u001b[0mtxt\u001b[0m \u001b[0;34m=\u001b[0m \u001b[0;34m\"\\mathrm{{{3}}} = {0:.15f}_{{-{1:.15f}}}^{{{2:.15f}}}\"\u001b[0m\u001b[0;34m\u001b[0m\u001b[0;34m\u001b[0m\u001b[0m\n\u001b[1;32m      5\u001b[0m     \u001b[0mtxt\u001b[0m \u001b[0;34m=\u001b[0m \u001b[0mtxt\u001b[0m\u001b[0;34m.\u001b[0m\u001b[0mformat\u001b[0m\u001b[0;34m(\u001b[0m\u001b[0mmcmc\u001b[0m\u001b[0;34m[\u001b[0m\u001b[0;36m1\u001b[0m\u001b[0;34m]\u001b[0m\u001b[0;34m,\u001b[0m \u001b[0mq\u001b[0m\u001b[0;34m[\u001b[0m\u001b[0;36m0\u001b[0m\u001b[0;34m]\u001b[0m\u001b[0;34m,\u001b[0m \u001b[0mq\u001b[0m\u001b[0;34m[\u001b[0m\u001b[0;36m1\u001b[0m\u001b[0;34m]\u001b[0m\u001b[0;34m,\u001b[0m \u001b[0mlabels\u001b[0m\u001b[0;34m[\u001b[0m\u001b[0mi\u001b[0m\u001b[0;34m]\u001b[0m\u001b[0;34m)\u001b[0m\u001b[0;34m\u001b[0m\u001b[0;34m\u001b[0m\u001b[0m\n",
      "\u001b[0;31mNameError\u001b[0m: name 'flat_samples' is not defined"
     ]
    }
   ],
   "source": [
    "for i in range(ndim):\n",
    "    mcmc = np.percentile(flat_samples[:, i], [16, 50, 84])\n",
    "    q = np.diff(mcmc)\n",
    "    txt = \"\\mathrm{{{3}}} = {0:.15f}_{{-{1:.15f}}}^{{{2:.15f}}}\"\n",
    "    txt = txt.format(mcmc[1], q[0], q[1], labels[i])\n",
    "    display(Math(txt))"
   ]
  },
  {
   "cell_type": "code",
   "execution_count": null,
   "metadata": {},
   "outputs": [],
   "source": [
    "# --- PLOT DATA WITH ESTIMATED PARAMS -----\n",
    "\n",
    "# data\n",
    "plt.errorbar(x_D_mh_over_rd, y_D_m_over_rd/np.sqrt(x_D_mh_over_rd), yerr=np.diag(yerr_D_m_over_rd/np.sqrt(x_D_mh_over_rd)), fmt=\".b\", capsize=0, label = r\"$D_M(z)/r_d\\sqrt{z}$\")\n",
    "plt.errorbar(x_D_mh_over_rd, y_D_h_over_rd*np.sqrt(x_D_mh_over_rd), yerr=np.diag(yerr_D_h_over_rd)*np.sqrt(x_D_mh_over_rd), fmt=\".k\", capsize=0, label = r\"$\\sqrt{z}D_H(z)/r_d$\")\n",
    "\n",
    "plt.errorbar([x_6dFGS,x_MGS,x_ELG], [y_6dFGS_Dv_over_rd/np.sqrt(x_6dFGS), y_MGS_Dv_over_rd/np.sqrt(x_MGS), y_ELG_Dv_over_rd/np.sqrt(x_ELG)],\\\n",
    "             yerr=[yerr_6dFGS_Dv_over_rd/np.sqrt(x_6dFGS), yerr_MGS_Dv_over_rd/np.sqrt(x_MGS), yerr_ELG_Dv_over_rd/np.sqrt(x_ELG)], fmt=\".r\", capsize=0, label = r\"$D_V(z)/r_d\\sqrt{z}$\")\n",
    "plt.legend()\n",
    "plt.xlabel(\"redshift z\")\n",
    "plt.ylabel(\"Expansion history\");\n",
    "\n",
    "\n",
    "xl = np.linspace(0.001,3,int(1e2))\n",
    "for Omg_c, h, alpha_t in flat_samples[np.random.randint(len(flat_samples), size=100)]:\n",
    "    Omg_r = (2.47e-5*h**-2)*1.6917688896\n",
    "    plt.plot(xl, np.sqrt(xl)*D_H_H0(xl,[Omg_c , 0.05 , 0 , Omg_r , alpha_t , 0])/r_d_H0([Omg_c , 0.05 , 0 , Omg_r , alpha_t , 0],h), color=\"k\", alpha=0.1)\n",
    "    plt.plot(xl, D_V_H0(xl,[Omg_c , 0.05 , 0 , Omg_r , alpha_t , 0])/(r_d_H0([Omg_c , 0.05 , 0 , Omg_r , alpha_t , 0],h)*np.sqrt(xl)), color=\"r\", alpha=0.1)\n",
    "    plt.plot(xl, D_M_H0(xl,[Omg_c , 0.05 , 0 , Omg_r , alpha_t , 0])/(r_d_H0([Omg_c , 0.05 , 0 , Omg_r , alpha_t , 0],h)*np.sqrt(xl)), color=\"b\", alpha=0.1)\n"
   ]
  },
  {
   "cell_type": "code",
   "execution_count": null,
   "metadata": {},
   "outputs": [],
   "source": []
  },
  {
   "cell_type": "code",
   "execution_count": null,
   "metadata": {},
   "outputs": [],
   "source": []
  },
  {
   "cell_type": "code",
   "execution_count": null,
   "metadata": {},
   "outputs": [],
   "source": []
  },
  {
   "cell_type": "code",
   "execution_count": null,
   "metadata": {},
   "outputs": [],
   "source": []
  },
  {
   "cell_type": "code",
   "execution_count": null,
   "metadata": {},
   "outputs": [],
   "source": []
  },
  {
   "cell_type": "code",
   "execution_count": null,
   "metadata": {},
   "outputs": [],
   "source": []
  },
  {
   "cell_type": "code",
   "execution_count": null,
   "metadata": {},
   "outputs": [],
   "source": []
  },
  {
   "cell_type": "code",
   "execution_count": null,
   "metadata": {},
   "outputs": [],
   "source": []
  },
  {
   "cell_type": "code",
   "execution_count": null,
   "metadata": {},
   "outputs": [],
   "source": []
  },
  {
   "cell_type": "code",
   "execution_count": null,
   "metadata": {},
   "outputs": [],
   "source": []
  }
 ],
 "metadata": {
  "kernelspec": {
   "display_name": "Python 3 (ipykernel)",
   "language": "python",
   "name": "python3"
  },
  "language_info": {
   "codemirror_mode": {
    "name": "ipython",
    "version": 3
   },
   "file_extension": ".py",
   "mimetype": "text/x-python",
   "name": "python",
   "nbconvert_exporter": "python",
   "pygments_lexer": "ipython3",
   "version": "3.9.16"
  }
 },
 "nbformat": 4,
 "nbformat_minor": 4
}
