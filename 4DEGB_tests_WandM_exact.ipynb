{
 "cells": [
  {
   "cell_type": "code",
   "execution_count": 12,
   "id": "c21bc0da-0d3e-459c-bd85-b24fcb5813f1",
   "metadata": {},
   "outputs": [],
   "source": [
    "\"\"\" import useful functions \"\"\"\n",
    "\n",
    "import matplotlib.pyplot as plt \n",
    "import pyccl as ccl\n",
    "import numpy as np\n",
    "import scipy\n",
    "%matplotlib inline"
   ]
  },
  {
   "cell_type": "code",
   "execution_count": 63,
   "id": "7e5d7f85-66f3-47e7-b0a3-484e4bd9c723",
   "metadata": {},
   "outputs": [],
   "source": [
    "\"\"\" define functions \"\"\"\n",
    "\n",
    "# gives X(z) as defined in (8) Wang and Mota (note - k vanishes when calculating X)\n",
    "\n",
    "def X(z, cosmo, alpha_tilde):\n",
    "    \n",
    "    H0 , Omega_c , Omega_b , Omega_k , Omega_r = cosmo\n",
    "    Omega_m = Omega_c + Omega_b\n",
    "    Omega_lambda = 1 - Omega_m - Omega_r - Omega_k\n",
    "    \n",
    "    return 1 + 4 * alpha_tilde * (Omega_m * (1 + z) ** 3 + Omega_r * (1 + z)** 4 + Omega_k * (1 + z) ** 2 + Omega_lambda)\n",
    "\n",
    "# gives E(z) = H(z) / H0\n",
    "\n",
    "def E(z , cosmo , alpha_tilde):\n",
    "    \n",
    "    H0 , Omega_c , Omega_b , Omega_k , Omega_r = cosmo\n",
    "    Omega_m = Omega_c + Omega_b\n",
    "    Omega_lambda = 1 - Omega_m - Omega_r - Omega_k\n",
    "    \n",
    "\n",
    "    if alpha_tilde == 0:\n",
    "        ans = np.sqrt(Omega_m * (1 + z) ** 3 + Omega_r * (1 + z) ** 4 + Omega_k * (1 + z) ** 2 + Omega_lambda)\n",
    "    else:\n",
    "        \n",
    "        # Wang and Mota\n",
    "        ans = np.sqrt((np.sqrt(X(z , cosmo , alpha_tilde)) - 1)/(2 * alpha_tilde))\n",
    "    \n",
    "    return ans\n",
    "    \n",
    "# gives dH/dz\n",
    "\n",
    "def dHdz(z , cosmo , alpha_tilde):\n",
    "    \n",
    "    H0 , Omega_c , Omega_b , Omega_k , Omega_r = cosmo\n",
    "    Omega_m = Omega_c + Omega_b\n",
    "    \n",
    "    # Wang and Mota\n",
    "    dHdz = H0 * ((3 * Omega_m * (1 + z) ** 2) + (4 * Omega_r * (1 + z) ** 3) + (2 * Omega_k * (1 + z)))/ \\\n",
    "    (2 * E(z , cosmo , alpha_tilde) * np.sqrt(X(z , cosmo , alpha_tilde)))\n",
    "    \n",
    "    return dHdz\n",
    "\n",
    "# gives rho_cdm / rho_DE as a function of z\n",
    "\n",
    "def rho_cdm_frac_rho_de(z , cosmo , alpha_tilde):\n",
    "    \n",
    "    H0 , Omega_c , Omega_b , Omega_k , Omega_r = cosmo\n",
    "    Omega_m = Omega_c + Omega_b\n",
    "    Omega_lambda = 1 - Omega_m - Omega_r - Omega_k\n",
    "    a = 1 / (1 + z)\n",
    "    H = H0 * E(z, cosmo, alpha_tilde)\n",
    "    alpha = alpha_tilde / (2 * H0 ** 2)\n",
    "    \n",
    "    # Wang and Mota\n",
    "    frac = 3 * (H0 ** 2) * Omega_c * ((1 + z) ** 3) / ((3 * Omega_lambda * H0 ** 2) - (6 * alpha_tilde * H ** 4))\n",
    "    \n",
    "    return frac\n",
    "\n",
    "# find w = P / pho for dark energy   -- Set to WandM\n",
    "\n",
    "def omega_de(z , cosmo , alpha_tilde):\n",
    "    \n",
    "    H0 , Omega_c , Omega_b , Omega_k , Omega_r = cosmo\n",
    "    Omega_m = Omega_c + Omega_b\n",
    "    Omega_lambda = 1 - Omega_m - Omega_r - Omega_k \n",
    "    Lambda = Omega_lambda * 3 * H0 ** 2\n",
    "    alpha = alpha_tilde / (2 * H0 ** 2)\n",
    "    \n",
    "    a = 1 / (1 + z)\n",
    "    H = H0 * E(z, cosmo, alpha_tilde)\n",
    "    \n",
    "    # Wang and Mota\n",
    "    ans = - 1 + (8 * alpha_tilde * (1 + z) * (H ** 2) * dHdz(z , cosmo , alpha_tilde) / ((6 * alpha_tilde * H ** 4) - Lambda))\n",
    "    \n",
    "    #print(Omega_lambda)\n",
    "    return ans"
   ]
  },
  {
   "cell_type": "code",
   "execution_count": 64,
   "id": "5ccea458-fed1-4227-9b16-d71dd18c1bcd",
   "metadata": {},
   "outputs": [
    {
     "name": "stdout",
     "output_type": "stream",
     "text": [
      "alpha_tilde/alpha =  1.6362694441280002e-64\n"
     ]
    },
    {
     "data": {
      "image/png": "[encoded data removed]",
      "text/plain": [
       "<Figure size 432x288 with 1 Axes>"
      ]
     },
     "metadata": {
      "needs_background": "light"
     },
     "output_type": "display_data"
    }
   ],
   "source": [
    "\"\"\" Plot FIG 1 Wang and Mota\"\"\"\n",
    "\n",
    "# gives cosmological parameters except alpha\n",
    "\n",
    "H0 = 67.4*1.342e-34\n",
    "cosmo = [H0 , 0.27 , 0.045 , 0 , 9.2e-5]                      #  H0 , Omega_c , Omega_b , Omega_k , Omega_r \n",
    "print(\"alpha_tilde/alpha = \",(2 * H0 ** 2))\n",
    "\n",
    "a = np.linspace( 0.5 , 1 , int(1e3))\n",
    "\n",
    "plt.plot(a, rho_cdm_frac_rho_de((1/a) - 1, cosmo , 0))\n",
    "alpha_tilde = -1e-5\n",
    "plt.plot(a, rho_cdm_frac_rho_de((1/a) - 1, cosmo , alpha_tilde), label = alpha_tilde)\n",
    "alpha_tilde = -5e-8\n",
    "plt.plot(a, rho_cdm_frac_rho_de((1/a) - 1, cosmo , alpha_tilde), label = alpha_tilde)\n",
    "\n",
    "\n",
    "#plt.xlim(0.55,1)\n",
    "#plt.ylim(0,3)\n",
    "plt.xlabel(\"a\")\n",
    "plt.ylabel(r\"$ \\rho_{CDM} / \\rho_{DE} $\")\n",
    "plt.legend(title = r\"$ \\~\\alpha $ = \")\n",
    "plt.show()"
   ]
  },
  {
   "cell_type": "code",
   "execution_count": 70,
   "id": "17a6f926-0e64-4e92-b6df-9febc9365781",
   "metadata": {},
   "outputs": [
    {
     "data": {
      "image/png": "[encoded data removed]",
      "text/plain": [
       "<Figure size 432x288 with 1 Axes>"
      ]
     },
     "metadata": {
      "needs_background": "light"
     },
     "output_type": "display_data"
    }
   ],
   "source": [
    "\"\"\" Plot FIG 2 Wang and Mota\"\"\"\n",
    "\n",
    "z = np.linspace(0 , 4 , int(1e3))\n",
    "\n",
    "plt.plot(z , omega_de(z , cosmo , 0))\n",
    "\n",
    "alpha_tilde = 1e-1\n",
    "plt.plot(z , omega_de(z , cosmo , alpha_tilde), label = alpha_tilde)\n",
    "alpha_tilde = 1e-8\n",
    "plt.plot(z , omega_de(z , cosmo , alpha_tilde), label = alpha_tilde)\n",
    "alpha_tilde = 1e-16\n",
    "plt.plot(z , omega_de(z , cosmo , alpha_tilde), label = alpha_tilde)\n",
    "\n",
    "plt.xlim(0,4)\n",
    "plt.ylim(-2,1)\n",
    "plt.xlabel(\"z\")\n",
    "plt.ylabel(r\"$ \\omega_{DE} $\")\n",
    "plt.legend(title = r\"$ \\~\\alpha $ = \")\n",
    "plt.show()"
   ]
  },
  {
   "cell_type": "code",
   "execution_count": 74,
   "id": "201bf320-c759-4fa7-87c8-32dbbea075c6",
   "metadata": {},
   "outputs": [
    {
     "data": {
      "image/png": "[encoded data removed]",
      "text/plain": [
       "<Figure size 432x288 with 1 Axes>"
      ]
     },
     "metadata": {
      "needs_background": "light"
     },
     "output_type": "display_data"
    }
   ],
   "source": [
    "\"\"\" Plot FIG 2 Wang and Mota\"\"\"\n",
    "\n",
    "z = np.linspace(0 , 1 , int(1e3))\n",
    "\n",
    "alpha_tilde = -1e-3\n",
    "plt.plot(z , omega_de(z , cosmo , alpha_tilde), label = alpha_tilde)\n",
    "alpha_tilde = -1e-5\n",
    "plt.plot(z , omega_de(z , cosmo , alpha_tilde), label = alpha_tilde)\n",
    "alpha_tilde = -1e-8\n",
    "plt.plot(z , omega_de(z , cosmo , alpha_tilde), label = alpha_tilde)\n",
    "alpha_tilde = -1e-16\n",
    "plt.plot(z , omega_de(z , cosmo , alpha_tilde), label = alpha_tilde)\n",
    "\n",
    "plt.plot(z , omega_de(z , cosmo , 0))\n",
    "\n",
    "plt.xlim(0,1)\n",
    "plt.ylim(-2,1)\n",
    "plt.xlabel(\"z\")\n",
    "plt.ylabel(r\"$ \\omega_{DE} $\")\n",
    "plt.legend(title = r\"$ \\~\\alpha $ = \")\n",
    "plt.show()"
   ]
  },
  {
   "cell_type": "code",
   "execution_count": null,
   "id": "e5e956ea-0906-498d-b153-3d8628db8141",
   "metadata": {},
   "outputs": [],
   "source": []
  },
  {
   "cell_type": "code",
   "execution_count": null,
   "id": "962bd29e-4a54-4223-9c5c-c77e6cc8e458",
   "metadata": {},
   "outputs": [],
   "source": []
  },
  {
   "cell_type": "code",
   "execution_count": null,
   "id": "df50b09f-b06b-4164-b364-706c941de63e",
   "metadata": {},
   "outputs": [],
   "source": []
  },
  {
   "cell_type": "code",
   "execution_count": null,
   "id": "7b4a4fd2-d3df-402c-a762-a74f0175a4c2",
   "metadata": {},
   "outputs": [],
   "source": []
  },
  {
   "cell_type": "code",
   "execution_count": null,
   "id": "b060f44a-df1e-4bd9-955a-77a54aec4c73",
   "metadata": {},
   "outputs": [],
   "source": []
  }
 ],
 "metadata": {
  "kernelspec": {
   "display_name": "Python 3",
   "language": "python",
   "name": "python3"
  },
  "language_info": {
   "codemirror_mode": {
    "name": "ipython",
    "version": 3
   },
   "file_extension": ".py",
   "mimetype": "text/x-python",
   "name": "python",
   "nbconvert_exporter": "python",
   "pygments_lexer": "ipython3",
   "version": "3.9.12"
  }
 },
 "nbformat": 4,
 "nbformat_minor": 5
}
